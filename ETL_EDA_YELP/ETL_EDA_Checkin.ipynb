{
  "cells": [
    {
      "cell_type": "markdown",
      "metadata": {
        "id": "CEu94iaXJzgY"
      },
      "source": [
        "# **ANALISIS DE ETL Y EDA DE CHECKIN.JSON**\n",
        "Este fue el mas facil de los archivos para analizar, ya que estaba en formato JSON, pero para trabajarlo mejor se lo transformo a \"csv\".\n",
        "Este archivo hace referencia a los checkin del negocio, donde almacena el id del negocio y a que hora fue el checkin.\n",
        "Al igual que los otros archivos, se utilizan los mismos recursos de herramientas y las mismas librerias, cargadas en el archivo \"requirements.txt\"."
      ]
    },
    {
      "cell_type": "code",
      "execution_count": null,
      "metadata": {
        "colab": {
          "base_uri": "https://localhost:8080/"
        },
        "id": "5HV4UBrVHAJI",
        "outputId": "a024f4be-9364-4263-f457-44be5beadeff"
      },
      "outputs": [
        {
          "name": "stdout",
          "output_type": "stream",
          "text": [
            "Requirement already satisfied: gdown in /usr/local/lib/python3.10/dist-packages (5.2.0)\n",
            "Requirement already satisfied: beautifulsoup4 in /usr/local/lib/python3.10/dist-packages (from gdown) (4.12.3)\n",
            "Requirement already satisfied: filelock in /usr/local/lib/python3.10/dist-packages (from gdown) (3.16.1)\n",
            "Requirement already satisfied: requests[socks] in /usr/local/lib/python3.10/dist-packages (from gdown) (2.32.3)\n",
            "Requirement already satisfied: tqdm in /usr/local/lib/python3.10/dist-packages (from gdown) (4.66.5)\n",
            "Requirement already satisfied: soupsieve>1.2 in /usr/local/lib/python3.10/dist-packages (from beautifulsoup4->gdown) (2.6)\n",
            "Requirement already satisfied: charset-normalizer<4,>=2 in /usr/local/lib/python3.10/dist-packages (from requests[socks]->gdown) (3.4.0)\n",
            "Requirement already satisfied: idna<4,>=2.5 in /usr/local/lib/python3.10/dist-packages (from requests[socks]->gdown) (3.10)\n",
            "Requirement already satisfied: urllib3<3,>=1.21.1 in /usr/local/lib/python3.10/dist-packages (from requests[socks]->gdown) (2.2.3)\n",
            "Requirement already satisfied: certifi>=2017.4.17 in /usr/local/lib/python3.10/dist-packages (from requests[socks]->gdown) (2024.8.30)\n",
            "Requirement already satisfied: PySocks!=1.5.7,>=1.5.6 in /usr/local/lib/python3.10/dist-packages (from requests[socks]->gdown) (1.7.1)\n"
          ]
        },
        {
          "name": "stderr",
          "output_type": "stream",
          "text": [
            "Retrieving folder contents\n"
          ]
        },
        {
          "name": "stdout",
          "output_type": "stream",
          "text": [
            "Processing file 1dQ7KGCWY2TjacJ6s1qdgXNUcIWETK_ny business.pkl\n",
            "Processing file 1OZVxA7AJNocMxDop9AM0VRR47igR661w checkin_csv.csv\n",
            "Processing file 1YJBUdtr2yjZlm8ozk-GUoOuTPgFm5daE dfbus_csv.csv\n",
            "Processing file 1c64ZN_Zg1_vOeld_fgNFYbGM2qveuhf- dfbussnew_csv.csv\n",
            "Processing file 1rlHZHxi4BsTm6y7mSFr2RSZtCCT1QPY2 dfbussnew3_csv.csv\n",
            "Processing file 1sY_vS4oRrjEL0sVaeDxx5TdV05h85iH5 dfcheckins3_csv.csv\n",
            "Processing file 13UenKmczz-XcHyINpisnBS8tCdPi2kpT dfreview3_csv.csv\n",
            "Processing file 1OIWb7J5AGXc0fr0M9erqbnK_J_052AwO dfreviewgoo3_csv.csv\n",
            "Processing file 1zJOLUd4EXm-VsRTt5ixRYwEz2AiILy6i0K_DSKETgYQ Diagrama de Gantt\n",
            "Processing file 1Sg0aOCcTZuL0jYosy1ldBZ2795PJBV69 Diccionario de DATOS - PROY FINAL.xlsx\n",
            "Processing file 1lPvz671Sl51e-l4iexsN6H13ERwfUrRd ETL_EDA_Business3.ipynb\n",
            "Processing file 1C62X0VufMsbGoebaMFO1alVZ3-JDvwnf ETL_EDA_Review_Google3.ipynb\n",
            "Processing file 18UBpLSMJchsqQDuxrQWq6pYqtYtJAnv0 ETL_USER&TIP.ipynb\n",
            "Processing file 1h6rtP0S60wV3iJGmDLR8k62oJOUPET-Y review.json\n",
            "Processing file 1KsWBlcCBd2L36dwKEC2vIqnccD3rP09A tip.json\n"
          ]
        },
        {
          "name": "stderr",
          "output_type": "stream",
          "text": [
            "Retrieving folder contents completed\n",
            "Building directory structure\n",
            "Building directory structure completed\n",
            "Downloading...\n",
            "From (original): https://drive.google.com/uc?id=1dQ7KGCWY2TjacJ6s1qdgXNUcIWETK_ny\n",
            "From (redirected): https://drive.google.com/uc?id=1dQ7KGCWY2TjacJ6s1qdgXNUcIWETK_ny&confirm=t&uuid=4a7ca414-c5a9-4aec-83fb-1f7ad3d54345\n",
            "To: /content/Proyecto_final_Henry/business.pkl\n",
            "100%|██████████| 116M/116M [00:01<00:00, 86.4MB/s]\n",
            "Downloading...\n",
            "From (original): https://drive.google.com/uc?id=1OZVxA7AJNocMxDop9AM0VRR47igR661w\n",
            "From (redirected): https://drive.google.com/uc?id=1OZVxA7AJNocMxDop9AM0VRR47igR661w&confirm=t&uuid=f3408589-19ea-48db-82c0-487b731d332c\n",
            "To: /content/Proyecto_final_Henry/checkin_csv.csv\n",
            "100%|██████████| 285M/285M [00:03<00:00, 86.9MB/s]\n",
            "Downloading...\n",
            "From: https://drive.google.com/uc?id=1YJBUdtr2yjZlm8ozk-GUoOuTPgFm5daE\n",
            "To: /content/Proyecto_final_Henry/dfbus_csv.csv\n",
            "100%|██████████| 101M/101M [00:00<00:00, 104MB/s] \n",
            "Downloading...\n",
            "From: https://drive.google.com/uc?id=1c64ZN_Zg1_vOeld_fgNFYbGM2qveuhf-\n",
            "To: /content/Proyecto_final_Henry/dfbussnew_csv.csv\n",
            "100%|██████████| 49.5M/49.5M [00:00<00:00, 140MB/s]\n",
            "Downloading...\n",
            "From: https://drive.google.com/uc?id=1rlHZHxi4BsTm6y7mSFr2RSZtCCT1QPY2\n",
            "To: /content/Proyecto_final_Henry/dfbussnew3_csv.csv\n",
            "100%|██████████| 20.6M/20.6M [00:00<00:00, 80.8MB/s]\n",
            "Downloading...\n",
            "From (original): https://drive.google.com/uc?id=1sY_vS4oRrjEL0sVaeDxx5TdV05h85iH5\n",
            "From (redirected): https://drive.google.com/uc?id=1sY_vS4oRrjEL0sVaeDxx5TdV05h85iH5&confirm=t&uuid=e6325e97-a801-4bf9-8de1-17444ac2102d\n",
            "To: /content/Proyecto_final_Henry/dfcheckins3_csv.csv\n",
            "100%|██████████| 628M/628M [00:10<00:00, 61.6MB/s]\n",
            "Downloading...\n",
            "From (original): https://drive.google.com/uc?id=13UenKmczz-XcHyINpisnBS8tCdPi2kpT\n",
            "From (redirected): https://drive.google.com/uc?id=13UenKmczz-XcHyINpisnBS8tCdPi2kpT&confirm=t&uuid=4cb8c10a-d8d4-45c4-896d-2eb590c30aab\n",
            "To: /content/Proyecto_final_Henry/dfreview3_csv.csv\n",
            "100%|██████████| 477M/477M [00:05<00:00, 85.6MB/s]\n",
            "Downloading...\n",
            "From: https://drive.google.com/uc?id=1OIWb7J5AGXc0fr0M9erqbnK_J_052AwO\n",
            "To: /content/Proyecto_final_Henry/dfreviewgoo3_csv.csv\n",
            "100%|██████████| 10.5M/10.5M [00:00<00:00, 142MB/s]\n",
            "Downloading...\n",
            "From (original): https://drive.google.com/uc?id=1zJOLUd4EXm-VsRTt5ixRYwEz2AiILy6i0K_DSKETgYQ\n",
            "From (redirected): https://docs.google.com/spreadsheets/d/1zJOLUd4EXm-VsRTt5ixRYwEz2AiILy6i0K_DSKETgYQ/export?format=xlsx\n",
            "To: /content/Proyecto_final_Henry/Diagrama de Gantt\n",
            "37.2kB [00:00, 41.6MB/s]\n",
            "Downloading...\n",
            "From: https://drive.google.com/uc?id=1Sg0aOCcTZuL0jYosy1ldBZ2795PJBV69\n",
            "To: /content/Proyecto_final_Henry/Diccionario de DATOS - PROY FINAL.xlsx\n",
            "100%|██████████| 22.5k/22.5k [00:00<00:00, 14.2MB/s]\n",
            "Downloading...\n",
            "From: https://drive.google.com/uc?id=1lPvz671Sl51e-l4iexsN6H13ERwfUrRd\n",
            "To: /content/Proyecto_final_Henry/ETL_EDA_Business3.ipynb\n",
            "100%|██████████| 787k/787k [00:00<00:00, 32.3MB/s]\n",
            "Downloading...\n",
            "From: https://drive.google.com/uc?id=1C62X0VufMsbGoebaMFO1alVZ3-JDvwnf\n",
            "To: /content/Proyecto_final_Henry/ETL_EDA_Review_Google3.ipynb\n",
            "100%|██████████| 519k/519k [00:00<00:00, 29.6MB/s]\n",
            "Downloading...\n",
            "From: https://drive.google.com/uc?id=18UBpLSMJchsqQDuxrQWq6pYqtYtJAnv0\n",
            "To: /content/Proyecto_final_Henry/ETL_USER&TIP.ipynb\n",
            "100%|██████████| 548k/548k [00:00<00:00, 31.0MB/s]\n",
            "Downloading...\n",
            "From (original): https://drive.google.com/uc?id=1h6rtP0S60wV3iJGmDLR8k62oJOUPET-Y\n",
            "From (redirected): https://drive.google.com/uc?id=1h6rtP0S60wV3iJGmDLR8k62oJOUPET-Y&confirm=t&uuid=4979cc5a-08e1-4c1a-8a8b-aa4bd3448880\n",
            "To: /content/Proyecto_final_Henry/review.json\n",
            "100%|██████████| 5.34G/5.34G [01:10<00:00, 75.7MB/s]\n",
            "Downloading...\n",
            "From (original): https://drive.google.com/uc?id=1KsWBlcCBd2L36dwKEC2vIqnccD3rP09A\n",
            "From (redirected): https://drive.google.com/uc?id=1KsWBlcCBd2L36dwKEC2vIqnccD3rP09A&confirm=t&uuid=bce091bc-6632-42a6-9413-3f06c7cfefa1\n",
            "To: /content/Proyecto_final_Henry/tip.json\n",
            "100%|██████████| 181M/181M [00:01<00:00, 118MB/s]\n",
            "Download completed\n"
          ]
        },
        {
          "data": {
            "text/plain": [
              "['/content/Proyecto_final_Henry/business.pkl',\n",
              " '/content/Proyecto_final_Henry/checkin_csv.csv',\n",
              " '/content/Proyecto_final_Henry/dfbus_csv.csv',\n",
              " '/content/Proyecto_final_Henry/dfbussnew_csv.csv',\n",
              " '/content/Proyecto_final_Henry/dfbussnew3_csv.csv',\n",
              " '/content/Proyecto_final_Henry/dfcheckins3_csv.csv',\n",
              " '/content/Proyecto_final_Henry/dfreview3_csv.csv',\n",
              " '/content/Proyecto_final_Henry/dfreviewgoo3_csv.csv',\n",
              " '/content/Proyecto_final_Henry/Diagrama de Gantt',\n",
              " '/content/Proyecto_final_Henry/Diccionario de DATOS - PROY FINAL.xlsx',\n",
              " '/content/Proyecto_final_Henry/ETL_EDA_Business3.ipynb',\n",
              " '/content/Proyecto_final_Henry/ETL_EDA_Review_Google3.ipynb',\n",
              " '/content/Proyecto_final_Henry/ETL_USER&TIP.ipynb',\n",
              " '/content/Proyecto_final_Henry/review.json',\n",
              " '/content/Proyecto_final_Henry/tip.json']"
            ]
          },
          "execution_count": 1,
          "metadata": {},
          "output_type": "execute_result"
        }
      ],
      "source": [
        "!pip install --upgrade gdown\n",
        "import gdown\n",
        "\n",
        "# ID de la carpeta de Google Drive\n",
        "folder_id = \"1jJxkUUZ9JZO2PYJ5o5nbhWrr5uzQOfJB\"\n",
        "\n",
        "# Descargar todo el contenido de la carpeta\n",
        "gdown.download_folder(f\"https://drive.google.com/drive/folders/{folder_id}\", quiet=False)\n"
      ]
    },
    {
      "cell_type": "code",
      "execution_count": null,
      "metadata": {
        "colab": {
          "base_uri": "https://localhost:8080/"
        },
        "id": "mFvqClGLNryX",
        "outputId": "7c1e80b6-96c6-4662-a429-ac645fc8561f"
      },
      "outputs": [
        {
          "name": "stdout",
          "output_type": "stream",
          "text": [
            "/content/Proyecto_final_Henry/checkin_csv.csv\n"
          ]
        }
      ],
      "source": [
        "!ls /content/Proyecto_final_Henry/checkin_csv.csv"
      ]
    },
    {
      "cell_type": "markdown",
      "metadata": {
        "id": "1ndFRTyT0SWm"
      },
      "source": [
        "Aca al principio, cargamos todas las librerias que vamos a utilizar, para que sea mas rapido.\n",
        "luego para ver todas las columnas a lo ancho de la pantalla utilizamos \"display_max_colwidth\".\n",
        "Cargamos el archivo, transformado en \"csv\" para poder trabajarlo mejor. \n"
      ]
    },
    {
      "cell_type": "code",
      "execution_count": 1,
      "metadata": {
        "colab": {
          "base_uri": "https://localhost:8080/",
          "height": 431
        },
        "id": "IJ6RYRZVN9KE",
        "outputId": "496d7c64-8b39-4052-a0e9-3aabf017bd8e"
      },
      "outputs": [
        {
          "data": {
            "text/html": [
              "<div>\n",
              "<style scoped>\n",
              "    .dataframe tbody tr th:only-of-type {\n",
              "        vertical-align: middle;\n",
              "    }\n",
              "\n",
              "    .dataframe tbody tr th {\n",
              "        vertical-align: top;\n",
              "    }\n",
              "\n",
              "    .dataframe thead th {\n",
              "        text-align: right;\n",
              "    }\n",
              "</style>\n",
              "<table border=\"1\" class=\"dataframe\">\n",
              "  <thead>\n",
              "    <tr style=\"text-align: right;\">\n",
              "      <th></th>\n",
              "      <th>Unnamed: 0</th>\n",
              "      <th>business_id</th>\n",
              "      <th>date</th>\n",
              "    </tr>\n",
              "  </thead>\n",
              "  <tbody>\n",
              "    <tr>\n",
              "      <th>0</th>\n",
              "      <td>0</td>\n",
              "      <td>---kPU91CF4Lq2-WlRu9Lw</td>\n",
              "      <td>2020-03-13 21:10:56, 2020-06-02 22:18:06, 2020-07-24 22:42:27, 2020-10-24 21:36:13, 2020-12-09 21:23:33, 2021-01-20 17:34:57, 2021-04-30 21:02:03, 2021-05-25 21:16:54, 2021-08-06 21:08:08, 2021-10-02 15:15:42, 2021-11-11 16:23:50</td>\n",
              "    </tr>\n",
              "    <tr>\n",
              "      <th>1</th>\n",
              "      <td>1</td>\n",
              "      <td>--0iUa4sNDFiZFrAdIWhZQ</td>\n",
              "      <td>2010-09-13 21:43:09, 2011-05-04 23:08:15, 2011-07-18 22:30:31, 2012-09-07 20:28:50, 2013-03-27 15:57:36, 2013-08-13 00:31:34, 2013-08-13 00:31:48, 2013-09-23 17:39:38, 2013-11-18 06:34:08, 2014-04-12 23:04:47</td>\n",
              "    </tr>\n",
              "    <tr>\n",
              "      <th>2</th>\n",
              "      <td>2</td>\n",
              "      <td>--30_8IhuyMHbSOcNWd6DQ</td>\n",
              "      <td>2013-06-14 23:29:17, 2014-08-13 23:20:22</td>\n",
              "    </tr>\n",
              "    <tr>\n",
              "      <th>3</th>\n",
              "      <td>3</td>\n",
              "      <td>--7PUidqRWpRSpXebiyxTg</td>\n",
              "      <td>2011-02-15 17:12:00, 2011-07-28 02:46:10, 2012-03-11 10:30:02, 2012-04-24 07:07:59, 2012-04-24 07:43:31, 2013-05-25 16:41:10, 2014-05-02 15:49:55, 2014-09-18 02:28:23, 2014-11-10 15:16:43, 2015-09-27 13:18:32</td>\n",
              "    </tr>\n",
              "    <tr>\n",
              "      <th>4</th>\n",
              "      <td>4</td>\n",
              "      <td>--7jw19RH9JKXgFohspgQw</td>\n",
              "      <td>2014-04-21 20:42:11, 2014-04-28 21:04:46, 2014-09-30 14:41:47, 2014-10-23 18:22:28, 2015-04-27 19:55:00, 2015-09-21 12:52:09, 2015-10-01 12:46:16, 2015-10-22 13:35:04, 2016-01-14 12:27:43, 2016-02-01 15:15:07, 2016-02-11 12:22:47, 2016-03-31 23:15:46, 2016-04-11 13:11:34, 2016-05-25 12:44:11, 2016-06-27 15:46:11, 2016-06-30 15:14:28, 2016-07-28 14:15:59, 2016-09-22 20:05:06, 2016-11-16 19:00:11, 2016-12-27 14:36:14, 2017-01-24 20:18:16, 2017-02-21 16:01:49, 2017-03-21 14:08:44, 2017-05-21 16:07:21, 2017-08-07 14:17:39, 2021-06-21 19:59:50</td>\n",
              "    </tr>\n",
              "  </tbody>\n",
              "</table>\n",
              "</div>"
            ],
            "text/plain": [
              "   Unnamed: 0             business_id  \\\n",
              "0           0  ---kPU91CF4Lq2-WlRu9Lw   \n",
              "1           1  --0iUa4sNDFiZFrAdIWhZQ   \n",
              "2           2  --30_8IhuyMHbSOcNWd6DQ   \n",
              "3           3  --7PUidqRWpRSpXebiyxTg   \n",
              "4           4  --7jw19RH9JKXgFohspgQw   \n",
              "\n",
              "                                                                                                                                                                                                                                                                                                                                                                                                                                                                                                                                                               date  \n",
              "0                                                                                                                                                                                                                                                                                                                             2020-03-13 21:10:56, 2020-06-02 22:18:06, 2020-07-24 22:42:27, 2020-10-24 21:36:13, 2020-12-09 21:23:33, 2021-01-20 17:34:57, 2021-04-30 21:02:03, 2021-05-25 21:16:54, 2021-08-06 21:08:08, 2021-10-02 15:15:42, 2021-11-11 16:23:50  \n",
              "1                                                                                                                                                                                                                                                                                                                                                  2010-09-13 21:43:09, 2011-05-04 23:08:15, 2011-07-18 22:30:31, 2012-09-07 20:28:50, 2013-03-27 15:57:36, 2013-08-13 00:31:34, 2013-08-13 00:31:48, 2013-09-23 17:39:38, 2013-11-18 06:34:08, 2014-04-12 23:04:47  \n",
              "2                                                                                                                                                                                                                                                                                                                                                                                                                                                                                                                          2013-06-14 23:29:17, 2014-08-13 23:20:22  \n",
              "3                                                                                                                                                                                                                                                                                                                                                  2011-02-15 17:12:00, 2011-07-28 02:46:10, 2012-03-11 10:30:02, 2012-04-24 07:07:59, 2012-04-24 07:43:31, 2013-05-25 16:41:10, 2014-05-02 15:49:55, 2014-09-18 02:28:23, 2014-11-10 15:16:43, 2015-09-27 13:18:32  \n",
              "4  2014-04-21 20:42:11, 2014-04-28 21:04:46, 2014-09-30 14:41:47, 2014-10-23 18:22:28, 2015-04-27 19:55:00, 2015-09-21 12:52:09, 2015-10-01 12:46:16, 2015-10-22 13:35:04, 2016-01-14 12:27:43, 2016-02-01 15:15:07, 2016-02-11 12:22:47, 2016-03-31 23:15:46, 2016-04-11 13:11:34, 2016-05-25 12:44:11, 2016-06-27 15:46:11, 2016-06-30 15:14:28, 2016-07-28 14:15:59, 2016-09-22 20:05:06, 2016-11-16 19:00:11, 2016-12-27 14:36:14, 2017-01-24 20:18:16, 2017-02-21 16:01:49, 2017-03-21 14:08:44, 2017-05-21 16:07:21, 2017-08-07 14:17:39, 2021-06-21 19:59:50  "
            ]
          },
          "execution_count": 1,
          "metadata": {},
          "output_type": "execute_result"
        }
      ],
      "source": [
        "import numpy as np\n",
        "import pandas as pd\n",
        "import ast\n",
        "import warnings\n",
        "from datetime import datetime\n",
        "pd.set_option('display.max_rows', None)  # Para ver todas las filas\n",
        "pd.set_option('display.max_colwidth', None)  # Para no truncar el contenido de las celdas\n",
        "df_check=pd.read_csv(\"../Carpeta_ETL/checkin_csv.csv\")\n",
        "df_check.head()\n"
      ]
    },
    {
      "cell_type": "code",
      "execution_count": 2,
      "metadata": {
        "colab": {
          "base_uri": "https://localhost:8080/"
        },
        "id": "CFGxIQgw10Ow",
        "outputId": "9bde41e3-e971-45ee-8d7a-b7d9adc45ca9"
      },
      "outputs": [
        {
          "name": "stdout",
          "output_type": "stream",
          "text": [
            "<class 'pandas.core.frame.DataFrame'>\n",
            "RangeIndex: 131930 entries, 0 to 131929\n",
            "Data columns (total 3 columns):\n",
            " #   Column       Non-Null Count   Dtype \n",
            "---  ------       --------------   ----- \n",
            " 0   Unnamed: 0   131930 non-null  int64 \n",
            " 1   business_id  131930 non-null  object\n",
            " 2   date         131930 non-null  object\n",
            "dtypes: int64(1), object(2)\n",
            "memory usage: 3.0+ MB\n"
          ]
        }
      ],
      "source": [
        "df_check.info()"
      ]
    },
    {
      "cell_type": "code",
      "execution_count": 3,
      "metadata": {
        "colab": {
          "base_uri": "https://localhost:8080/"
        },
        "id": "2XtCnVDK2faK",
        "outputId": "eb1c8961-1405-4c67-c513-72a581666189"
      },
      "outputs": [
        {
          "data": {
            "text/plain": [
              "Unnamed: 0     0\n",
              "business_id    0\n",
              "date           0\n",
              "dtype: int64"
            ]
          },
          "execution_count": 3,
          "metadata": {},
          "output_type": "execute_result"
        }
      ],
      "source": [
        "df_check.isnull().sum()"
      ]
    },
    {
      "cell_type": "code",
      "execution_count": 4,
      "metadata": {},
      "outputs": [
        {
          "data": {
            "text/plain": [
              "0"
            ]
          },
          "execution_count": 4,
          "metadata": {},
          "output_type": "execute_result"
        }
      ],
      "source": [
        "df_check.duplicated('business_id',keep='first').sum()"
      ]
    },
    {
      "cell_type": "markdown",
      "metadata": {
        "id": "jT7SnkAK3D-7"
      },
      "source": [
        "Con este analisis y viendo de que la columna \"business_id\", no posee elementos repetidos, se podria usar de indice, pero es mejor definirle un nuevo indice que haga referencia a las filas, y que la unifique.\n",
        "Es por eso que vamos a crear un indice llamado \"checkin_id\" del tipo int64."
      ]
    },
    {
      "cell_type": "code",
      "execution_count": 12,
      "metadata": {
        "colab": {
          "base_uri": "https://localhost:8080/",
          "height": 480
        },
        "id": "HIAFRiKf3uaf",
        "outputId": "0979d549-c674-4504-c8bd-11ebaa64909e"
      },
      "outputs": [
        {
          "data": {
            "text/html": [
              "<div>\n",
              "<style scoped>\n",
              "    .dataframe tbody tr th:only-of-type {\n",
              "        vertical-align: middle;\n",
              "    }\n",
              "\n",
              "    .dataframe tbody tr th {\n",
              "        vertical-align: top;\n",
              "    }\n",
              "\n",
              "    .dataframe thead th {\n",
              "        text-align: right;\n",
              "    }\n",
              "</style>\n",
              "<table border=\"1\" class=\"dataframe\">\n",
              "  <thead>\n",
              "    <tr style=\"text-align: right;\">\n",
              "      <th></th>\n",
              "      <th>business_id</th>\n",
              "      <th>date</th>\n",
              "    </tr>\n",
              "    <tr>\n",
              "      <th>checkin_id</th>\n",
              "      <th></th>\n",
              "      <th></th>\n",
              "    </tr>\n",
              "  </thead>\n",
              "  <tbody>\n",
              "    <tr>\n",
              "      <th>0</th>\n",
              "      <td>---kPU91CF4Lq2-WlRu9Lw</td>\n",
              "      <td>[2020-03-13 21:10:56, 2020-06-02 22:18:06, 2020-07-24 22:42:27, 2020-10-24 21:36:13, 2020-12-09 21:23:33, 2021-01-20 17:34:57, 2021-04-30 21:02:03, 2021-05-25 21:16:54, 2021-08-06 21:08:08, 2021-10-02 15:15:42, 2021-11-11 16:23:50]</td>\n",
              "    </tr>\n",
              "    <tr>\n",
              "      <th>1</th>\n",
              "      <td>--0iUa4sNDFiZFrAdIWhZQ</td>\n",
              "      <td>[2010-09-13 21:43:09, 2011-05-04 23:08:15, 2011-07-18 22:30:31, 2012-09-07 20:28:50, 2013-03-27 15:57:36, 2013-08-13 00:31:34, 2013-08-13 00:31:48, 2013-09-23 17:39:38, 2013-11-18 06:34:08, 2014-04-12 23:04:47]</td>\n",
              "    </tr>\n",
              "    <tr>\n",
              "      <th>2</th>\n",
              "      <td>--30_8IhuyMHbSOcNWd6DQ</td>\n",
              "      <td>[2013-06-14 23:29:17, 2014-08-13 23:20:22]</td>\n",
              "    </tr>\n",
              "    <tr>\n",
              "      <th>3</th>\n",
              "      <td>--7PUidqRWpRSpXebiyxTg</td>\n",
              "      <td>[2011-02-15 17:12:00, 2011-07-28 02:46:10, 2012-03-11 10:30:02, 2012-04-24 07:07:59, 2012-04-24 07:43:31, 2013-05-25 16:41:10, 2014-05-02 15:49:55, 2014-09-18 02:28:23, 2014-11-10 15:16:43, 2015-09-27 13:18:32]</td>\n",
              "    </tr>\n",
              "    <tr>\n",
              "      <th>4</th>\n",
              "      <td>--7jw19RH9JKXgFohspgQw</td>\n",
              "      <td>[2014-04-21 20:42:11, 2014-04-28 21:04:46, 2014-09-30 14:41:47, 2014-10-23 18:22:28, 2015-04-27 19:55:00, 2015-09-21 12:52:09, 2015-10-01 12:46:16, 2015-10-22 13:35:04, 2016-01-14 12:27:43, 2016-02-01 15:15:07, 2016-02-11 12:22:47, 2016-03-31 23:15:46, 2016-04-11 13:11:34, 2016-05-25 12:44:11, 2016-06-27 15:46:11, 2016-06-30 15:14:28, 2016-07-28 14:15:59, 2016-09-22 20:05:06, 2016-11-16 19:00:11, 2016-12-27 14:36:14, 2017-01-24 20:18:16, 2017-02-21 16:01:49, 2017-03-21 14:08:44, 2017-05-21 16:07:21, 2017-08-07 14:17:39, 2021-06-21 19:59:50]</td>\n",
              "    </tr>\n",
              "  </tbody>\n",
              "</table>\n",
              "</div>"
            ],
            "text/plain": [
              "                       business_id  \\\n",
              "checkin_id                           \n",
              "0           ---kPU91CF4Lq2-WlRu9Lw   \n",
              "1           --0iUa4sNDFiZFrAdIWhZQ   \n",
              "2           --30_8IhuyMHbSOcNWd6DQ   \n",
              "3           --7PUidqRWpRSpXebiyxTg   \n",
              "4           --7jw19RH9JKXgFohspgQw   \n",
              "\n",
              "                                                                                                                                                                                                                                                                                                                                                                                                                                                                                                                                                                          date  \n",
              "checkin_id                                                                                                                                                                                                                                                                                                                                                                                                                                                                                                                                                                      \n",
              "0                                                                                                                                                                                                                                                                                                                                      [2020-03-13 21:10:56, 2020-06-02 22:18:06, 2020-07-24 22:42:27, 2020-10-24 21:36:13, 2020-12-09 21:23:33, 2021-01-20 17:34:57, 2021-04-30 21:02:03, 2021-05-25 21:16:54, 2021-08-06 21:08:08, 2021-10-02 15:15:42, 2021-11-11 16:23:50]  \n",
              "1                                                                                                                                                                                                                                                                                                                                                           [2010-09-13 21:43:09, 2011-05-04 23:08:15, 2011-07-18 22:30:31, 2012-09-07 20:28:50, 2013-03-27 15:57:36, 2013-08-13 00:31:34, 2013-08-13 00:31:48, 2013-09-23 17:39:38, 2013-11-18 06:34:08, 2014-04-12 23:04:47]  \n",
              "2                                                                                                                                                                                                                                                                                                                                                                                                                                                                                                                                   [2013-06-14 23:29:17, 2014-08-13 23:20:22]  \n",
              "3                                                                                                                                                                                                                                                                                                                                                           [2011-02-15 17:12:00, 2011-07-28 02:46:10, 2012-03-11 10:30:02, 2012-04-24 07:07:59, 2012-04-24 07:43:31, 2013-05-25 16:41:10, 2014-05-02 15:49:55, 2014-09-18 02:28:23, 2014-11-10 15:16:43, 2015-09-27 13:18:32]  \n",
              "4           [2014-04-21 20:42:11, 2014-04-28 21:04:46, 2014-09-30 14:41:47, 2014-10-23 18:22:28, 2015-04-27 19:55:00, 2015-09-21 12:52:09, 2015-10-01 12:46:16, 2015-10-22 13:35:04, 2016-01-14 12:27:43, 2016-02-01 15:15:07, 2016-02-11 12:22:47, 2016-03-31 23:15:46, 2016-04-11 13:11:34, 2016-05-25 12:44:11, 2016-06-27 15:46:11, 2016-06-30 15:14:28, 2016-07-28 14:15:59, 2016-09-22 20:05:06, 2016-11-16 19:00:11, 2016-12-27 14:36:14, 2017-01-24 20:18:16, 2017-02-21 16:01:49, 2017-03-21 14:08:44, 2017-05-21 16:07:21, 2017-08-07 14:17:39, 2021-06-21 19:59:50]  "
            ]
          },
          "execution_count": 12,
          "metadata": {},
          "output_type": "execute_result"
        }
      ],
      "source": [
        "# Crear una nueva columna checkin_id con valores únicos secuenciales\n",
        "df_check['checkin_id'] = range(0, len(df_check))\n",
        "# Establecer checkin_id como el índice\n",
        "df_check.set_index('checkin_id', inplace=True)\n",
        "# Mostrar el DataFrame resultante\n",
        "df_check.head()"
      ]
    },
    {
      "cell_type": "markdown",
      "metadata": {
        "id": "eKZoGCYS0xh6"
      },
      "source": [
        "A simple vista se vee que la columna \"date\", tiene tipos de dato object, pero con datos inconcluso, como el dia, año en otros formatos, es por eso que se va a normalizar esta.\n",
        "Transformandola a datetime y en el formato \"YYYY MM DD HH:MM:SS\"."
      ]
    },
    {
      "cell_type": "code",
      "execution_count": 21,
      "metadata": {
        "colab": {
          "base_uri": "https://localhost:8080/",
          "height": 431
        },
        "id": "uz7UDS1lP_Dg",
        "outputId": "0f1e7b47-ba74-411c-fb9f-23eb460820c1"
      },
      "outputs": [
        {
          "ename": "AttributeError",
          "evalue": "'list' object has no attribute 'split'",
          "output_type": "error",
          "traceback": [
            "\u001b[1;31m---------------------------------------------------------------------------\u001b[0m",
            "\u001b[1;31mAttributeError\u001b[0m                            Traceback (most recent call last)",
            "Cell \u001b[1;32mIn[21], line 1\u001b[0m\n\u001b[1;32m----> 1\u001b[0m df_check[\u001b[38;5;124m'\u001b[39m\u001b[38;5;124mdate\u001b[39m\u001b[38;5;124m'\u001b[39m] \u001b[38;5;241m=\u001b[39m \u001b[43mdf_check\u001b[49m\u001b[43m[\u001b[49m\u001b[38;5;124;43m'\u001b[39;49m\u001b[38;5;124;43mdate\u001b[39;49m\u001b[38;5;124;43m'\u001b[39;49m\u001b[43m]\u001b[49m\u001b[38;5;241;43m.\u001b[39;49m\u001b[43mapply\u001b[49m\u001b[43m(\u001b[49m\u001b[38;5;28;43;01mlambda\u001b[39;49;00m\u001b[43m \u001b[49m\u001b[43mx\u001b[49m\u001b[43m:\u001b[49m\u001b[43m \u001b[49m\u001b[43mx\u001b[49m\u001b[38;5;241;43m.\u001b[39;49m\u001b[43msplit\u001b[49m\u001b[43m(\u001b[49m\u001b[38;5;124;43m'\u001b[39;49m\u001b[38;5;124;43m, \u001b[39;49m\u001b[38;5;124;43m'\u001b[39;49m\u001b[43m)\u001b[49m\u001b[43m)\u001b[49m\n\u001b[0;32m      2\u001b[0m \u001b[38;5;66;03m# Convertir las fechas de string a objetos datetime\u001b[39;00m\n\u001b[0;32m      3\u001b[0m df_check[\u001b[38;5;124m'\u001b[39m\u001b[38;5;124mdate\u001b[39m\u001b[38;5;124m'\u001b[39m] \u001b[38;5;241m=\u001b[39m df_check[\u001b[38;5;124m'\u001b[39m\u001b[38;5;124mdate\u001b[39m\u001b[38;5;124m'\u001b[39m]\u001b[38;5;241m.\u001b[39mapply(\u001b[38;5;28;01mlambda\u001b[39;00m times: [datetime\u001b[38;5;241m.\u001b[39mstrptime(time, \u001b[38;5;124m'\u001b[39m\u001b[38;5;124m%\u001b[39m\u001b[38;5;124mY-\u001b[39m\u001b[38;5;124m%\u001b[39m\u001b[38;5;124mm-\u001b[39m\u001b[38;5;132;01m%d\u001b[39;00m\u001b[38;5;124m \u001b[39m\u001b[38;5;124m%\u001b[39m\u001b[38;5;124mH:\u001b[39m\u001b[38;5;124m%\u001b[39m\u001b[38;5;124mM:\u001b[39m\u001b[38;5;124m%\u001b[39m\u001b[38;5;124mS\u001b[39m\u001b[38;5;124m'\u001b[39m) \u001b[38;5;28;01mfor\u001b[39;00m time \u001b[38;5;129;01min\u001b[39;00m times])\n",
            "File \u001b[1;32mc:\\Users\\Esteban\\Desktop\\PROYECTO FINAL\\envirtualFinal\\Lib\\site-packages\\pandas\\core\\series.py:4904\u001b[0m, in \u001b[0;36mSeries.apply\u001b[1;34m(self, func, convert_dtype, args, by_row, **kwargs)\u001b[0m\n\u001b[0;32m   4769\u001b[0m \u001b[38;5;28;01mdef\u001b[39;00m \u001b[38;5;21mapply\u001b[39m(\n\u001b[0;32m   4770\u001b[0m     \u001b[38;5;28mself\u001b[39m,\n\u001b[0;32m   4771\u001b[0m     func: AggFuncType,\n\u001b[1;32m   (...)\u001b[0m\n\u001b[0;32m   4776\u001b[0m     \u001b[38;5;241m*\u001b[39m\u001b[38;5;241m*\u001b[39mkwargs,\n\u001b[0;32m   4777\u001b[0m ) \u001b[38;5;241m-\u001b[39m\u001b[38;5;241m>\u001b[39m DataFrame \u001b[38;5;241m|\u001b[39m Series:\n\u001b[0;32m   4778\u001b[0m \u001b[38;5;250m    \u001b[39m\u001b[38;5;124;03m\"\"\"\u001b[39;00m\n\u001b[0;32m   4779\u001b[0m \u001b[38;5;124;03m    Invoke function on values of Series.\u001b[39;00m\n\u001b[0;32m   4780\u001b[0m \n\u001b[1;32m   (...)\u001b[0m\n\u001b[0;32m   4895\u001b[0m \u001b[38;5;124;03m    dtype: float64\u001b[39;00m\n\u001b[0;32m   4896\u001b[0m \u001b[38;5;124;03m    \"\"\"\u001b[39;00m\n\u001b[0;32m   4897\u001b[0m     \u001b[38;5;28;01mreturn\u001b[39;00m \u001b[43mSeriesApply\u001b[49m\u001b[43m(\u001b[49m\n\u001b[0;32m   4898\u001b[0m \u001b[43m        \u001b[49m\u001b[38;5;28;43mself\u001b[39;49m\u001b[43m,\u001b[49m\n\u001b[0;32m   4899\u001b[0m \u001b[43m        \u001b[49m\u001b[43mfunc\u001b[49m\u001b[43m,\u001b[49m\n\u001b[0;32m   4900\u001b[0m \u001b[43m        \u001b[49m\u001b[43mconvert_dtype\u001b[49m\u001b[38;5;241;43m=\u001b[39;49m\u001b[43mconvert_dtype\u001b[49m\u001b[43m,\u001b[49m\n\u001b[0;32m   4901\u001b[0m \u001b[43m        \u001b[49m\u001b[43mby_row\u001b[49m\u001b[38;5;241;43m=\u001b[39;49m\u001b[43mby_row\u001b[49m\u001b[43m,\u001b[49m\n\u001b[0;32m   4902\u001b[0m \u001b[43m        \u001b[49m\u001b[43margs\u001b[49m\u001b[38;5;241;43m=\u001b[39;49m\u001b[43margs\u001b[49m\u001b[43m,\u001b[49m\n\u001b[0;32m   4903\u001b[0m \u001b[43m        \u001b[49m\u001b[43mkwargs\u001b[49m\u001b[38;5;241;43m=\u001b[39;49m\u001b[43mkwargs\u001b[49m\u001b[43m,\u001b[49m\n\u001b[1;32m-> 4904\u001b[0m \u001b[43m    \u001b[49m\u001b[43m)\u001b[49m\u001b[38;5;241;43m.\u001b[39;49m\u001b[43mapply\u001b[49m\u001b[43m(\u001b[49m\u001b[43m)\u001b[49m\n",
            "File \u001b[1;32mc:\\Users\\Esteban\\Desktop\\PROYECTO FINAL\\envirtualFinal\\Lib\\site-packages\\pandas\\core\\apply.py:1427\u001b[0m, in \u001b[0;36mSeriesApply.apply\u001b[1;34m(self)\u001b[0m\n\u001b[0;32m   1424\u001b[0m     \u001b[38;5;28;01mreturn\u001b[39;00m \u001b[38;5;28mself\u001b[39m\u001b[38;5;241m.\u001b[39mapply_compat()\n\u001b[0;32m   1426\u001b[0m \u001b[38;5;66;03m# self.func is Callable\u001b[39;00m\n\u001b[1;32m-> 1427\u001b[0m \u001b[38;5;28;01mreturn\u001b[39;00m \u001b[38;5;28;43mself\u001b[39;49m\u001b[38;5;241;43m.\u001b[39;49m\u001b[43mapply_standard\u001b[49m\u001b[43m(\u001b[49m\u001b[43m)\u001b[49m\n",
            "File \u001b[1;32mc:\\Users\\Esteban\\Desktop\\PROYECTO FINAL\\envirtualFinal\\Lib\\site-packages\\pandas\\core\\apply.py:1507\u001b[0m, in \u001b[0;36mSeriesApply.apply_standard\u001b[1;34m(self)\u001b[0m\n\u001b[0;32m   1501\u001b[0m \u001b[38;5;66;03m# row-wise access\u001b[39;00m\n\u001b[0;32m   1502\u001b[0m \u001b[38;5;66;03m# apply doesn't have a `na_action` keyword and for backward compat reasons\u001b[39;00m\n\u001b[0;32m   1503\u001b[0m \u001b[38;5;66;03m# we need to give `na_action=\"ignore\"` for categorical data.\u001b[39;00m\n\u001b[0;32m   1504\u001b[0m \u001b[38;5;66;03m# TODO: remove the `na_action=\"ignore\"` when that default has been changed in\u001b[39;00m\n\u001b[0;32m   1505\u001b[0m \u001b[38;5;66;03m#  Categorical (GH51645).\u001b[39;00m\n\u001b[0;32m   1506\u001b[0m action \u001b[38;5;241m=\u001b[39m \u001b[38;5;124m\"\u001b[39m\u001b[38;5;124mignore\u001b[39m\u001b[38;5;124m\"\u001b[39m \u001b[38;5;28;01mif\u001b[39;00m \u001b[38;5;28misinstance\u001b[39m(obj\u001b[38;5;241m.\u001b[39mdtype, CategoricalDtype) \u001b[38;5;28;01melse\u001b[39;00m \u001b[38;5;28;01mNone\u001b[39;00m\n\u001b[1;32m-> 1507\u001b[0m mapped \u001b[38;5;241m=\u001b[39m \u001b[43mobj\u001b[49m\u001b[38;5;241;43m.\u001b[39;49m\u001b[43m_map_values\u001b[49m\u001b[43m(\u001b[49m\n\u001b[0;32m   1508\u001b[0m \u001b[43m    \u001b[49m\u001b[43mmapper\u001b[49m\u001b[38;5;241;43m=\u001b[39;49m\u001b[43mcurried\u001b[49m\u001b[43m,\u001b[49m\u001b[43m \u001b[49m\u001b[43mna_action\u001b[49m\u001b[38;5;241;43m=\u001b[39;49m\u001b[43maction\u001b[49m\u001b[43m,\u001b[49m\u001b[43m \u001b[49m\u001b[43mconvert\u001b[49m\u001b[38;5;241;43m=\u001b[39;49m\u001b[38;5;28;43mself\u001b[39;49m\u001b[38;5;241;43m.\u001b[39;49m\u001b[43mconvert_dtype\u001b[49m\n\u001b[0;32m   1509\u001b[0m \u001b[43m\u001b[49m\u001b[43m)\u001b[49m\n\u001b[0;32m   1511\u001b[0m \u001b[38;5;28;01mif\u001b[39;00m \u001b[38;5;28mlen\u001b[39m(mapped) \u001b[38;5;129;01mand\u001b[39;00m \u001b[38;5;28misinstance\u001b[39m(mapped[\u001b[38;5;241m0\u001b[39m], ABCSeries):\n\u001b[0;32m   1512\u001b[0m     \u001b[38;5;66;03m# GH#43986 Need to do list(mapped) in order to get treated as nested\u001b[39;00m\n\u001b[0;32m   1513\u001b[0m     \u001b[38;5;66;03m#  See also GH#25959 regarding EA support\u001b[39;00m\n\u001b[0;32m   1514\u001b[0m     \u001b[38;5;28;01mreturn\u001b[39;00m obj\u001b[38;5;241m.\u001b[39m_constructor_expanddim(\u001b[38;5;28mlist\u001b[39m(mapped), index\u001b[38;5;241m=\u001b[39mobj\u001b[38;5;241m.\u001b[39mindex)\n",
            "File \u001b[1;32mc:\\Users\\Esteban\\Desktop\\PROYECTO FINAL\\envirtualFinal\\Lib\\site-packages\\pandas\\core\\base.py:921\u001b[0m, in \u001b[0;36mIndexOpsMixin._map_values\u001b[1;34m(self, mapper, na_action, convert)\u001b[0m\n\u001b[0;32m    918\u001b[0m \u001b[38;5;28;01mif\u001b[39;00m \u001b[38;5;28misinstance\u001b[39m(arr, ExtensionArray):\n\u001b[0;32m    919\u001b[0m     \u001b[38;5;28;01mreturn\u001b[39;00m arr\u001b[38;5;241m.\u001b[39mmap(mapper, na_action\u001b[38;5;241m=\u001b[39mna_action)\n\u001b[1;32m--> 921\u001b[0m \u001b[38;5;28;01mreturn\u001b[39;00m \u001b[43malgorithms\u001b[49m\u001b[38;5;241;43m.\u001b[39;49m\u001b[43mmap_array\u001b[49m\u001b[43m(\u001b[49m\u001b[43marr\u001b[49m\u001b[43m,\u001b[49m\u001b[43m \u001b[49m\u001b[43mmapper\u001b[49m\u001b[43m,\u001b[49m\u001b[43m \u001b[49m\u001b[43mna_action\u001b[49m\u001b[38;5;241;43m=\u001b[39;49m\u001b[43mna_action\u001b[49m\u001b[43m,\u001b[49m\u001b[43m \u001b[49m\u001b[43mconvert\u001b[49m\u001b[38;5;241;43m=\u001b[39;49m\u001b[43mconvert\u001b[49m\u001b[43m)\u001b[49m\n",
            "File \u001b[1;32mc:\\Users\\Esteban\\Desktop\\PROYECTO FINAL\\envirtualFinal\\Lib\\site-packages\\pandas\\core\\algorithms.py:1743\u001b[0m, in \u001b[0;36mmap_array\u001b[1;34m(arr, mapper, na_action, convert)\u001b[0m\n\u001b[0;32m   1741\u001b[0m values \u001b[38;5;241m=\u001b[39m arr\u001b[38;5;241m.\u001b[39mastype(\u001b[38;5;28mobject\u001b[39m, copy\u001b[38;5;241m=\u001b[39m\u001b[38;5;28;01mFalse\u001b[39;00m)\n\u001b[0;32m   1742\u001b[0m \u001b[38;5;28;01mif\u001b[39;00m na_action \u001b[38;5;129;01mis\u001b[39;00m \u001b[38;5;28;01mNone\u001b[39;00m:\n\u001b[1;32m-> 1743\u001b[0m     \u001b[38;5;28;01mreturn\u001b[39;00m \u001b[43mlib\u001b[49m\u001b[38;5;241;43m.\u001b[39;49m\u001b[43mmap_infer\u001b[49m\u001b[43m(\u001b[49m\u001b[43mvalues\u001b[49m\u001b[43m,\u001b[49m\u001b[43m \u001b[49m\u001b[43mmapper\u001b[49m\u001b[43m,\u001b[49m\u001b[43m \u001b[49m\u001b[43mconvert\u001b[49m\u001b[38;5;241;43m=\u001b[39;49m\u001b[43mconvert\u001b[49m\u001b[43m)\u001b[49m\n\u001b[0;32m   1744\u001b[0m \u001b[38;5;28;01melse\u001b[39;00m:\n\u001b[0;32m   1745\u001b[0m     \u001b[38;5;28;01mreturn\u001b[39;00m lib\u001b[38;5;241m.\u001b[39mmap_infer_mask(\n\u001b[0;32m   1746\u001b[0m         values, mapper, mask\u001b[38;5;241m=\u001b[39misna(values)\u001b[38;5;241m.\u001b[39mview(np\u001b[38;5;241m.\u001b[39muint8), convert\u001b[38;5;241m=\u001b[39mconvert\n\u001b[0;32m   1747\u001b[0m     )\n",
            "File \u001b[1;32mlib.pyx:2972\u001b[0m, in \u001b[0;36mpandas._libs.lib.map_infer\u001b[1;34m()\u001b[0m\n",
            "Cell \u001b[1;32mIn[21], line 1\u001b[0m, in \u001b[0;36m<lambda>\u001b[1;34m(x)\u001b[0m\n\u001b[1;32m----> 1\u001b[0m df_check[\u001b[38;5;124m'\u001b[39m\u001b[38;5;124mdate\u001b[39m\u001b[38;5;124m'\u001b[39m] \u001b[38;5;241m=\u001b[39m df_check[\u001b[38;5;124m'\u001b[39m\u001b[38;5;124mdate\u001b[39m\u001b[38;5;124m'\u001b[39m]\u001b[38;5;241m.\u001b[39mapply(\u001b[38;5;28;01mlambda\u001b[39;00m x: \u001b[43mx\u001b[49m\u001b[38;5;241;43m.\u001b[39;49m\u001b[43msplit\u001b[49m(\u001b[38;5;124m'\u001b[39m\u001b[38;5;124m, \u001b[39m\u001b[38;5;124m'\u001b[39m))\n\u001b[0;32m      2\u001b[0m \u001b[38;5;66;03m# Convertir las fechas de string a objetos datetime\u001b[39;00m\n\u001b[0;32m      3\u001b[0m df_check[\u001b[38;5;124m'\u001b[39m\u001b[38;5;124mdate\u001b[39m\u001b[38;5;124m'\u001b[39m] \u001b[38;5;241m=\u001b[39m df_check[\u001b[38;5;124m'\u001b[39m\u001b[38;5;124mdate\u001b[39m\u001b[38;5;124m'\u001b[39m]\u001b[38;5;241m.\u001b[39mapply(\u001b[38;5;28;01mlambda\u001b[39;00m times: [datetime\u001b[38;5;241m.\u001b[39mstrptime(time, \u001b[38;5;124m'\u001b[39m\u001b[38;5;124m%\u001b[39m\u001b[38;5;124mY-\u001b[39m\u001b[38;5;124m%\u001b[39m\u001b[38;5;124mm-\u001b[39m\u001b[38;5;132;01m%d\u001b[39;00m\u001b[38;5;124m \u001b[39m\u001b[38;5;124m%\u001b[39m\u001b[38;5;124mH:\u001b[39m\u001b[38;5;124m%\u001b[39m\u001b[38;5;124mM:\u001b[39m\u001b[38;5;124m%\u001b[39m\u001b[38;5;124mS\u001b[39m\u001b[38;5;124m'\u001b[39m) \u001b[38;5;28;01mfor\u001b[39;00m time \u001b[38;5;129;01min\u001b[39;00m times])\n",
            "\u001b[1;31mAttributeError\u001b[0m: 'list' object has no attribute 'split'"
          ]
        }
      ],
      "source": [
        "df_check['date'] = df_check['date'].apply(lambda x: x.split(', '))\n",
        "# Convertir las fechas de string a objetos datetime\n",
        "df_check['date'] = df_check['date'].apply(lambda times: [datetime.strptime(time, '%Y-%m-%d %H:%M:%S') for time in times])\n",
        "df_check.head()"
      ]
    },
    {
      "cell_type": "code",
      "execution_count": 7,
      "metadata": {
        "colab": {
          "base_uri": "https://localhost:8080/",
          "height": 429
        },
        "id": "gdtajHd5R9f9",
        "outputId": "a6de4213-ade6-4ad8-c730-54b967d6c51d"
      },
      "outputs": [],
      "source": [
        "# Crear una lista de todas las fechas de check-in\n",
        "allcheck=[time for times in df_check['date'] for time in times]\n",
        "# Convertir a un DataFrame para analizar las fechas\n",
        "df_checkday = pd.DataFrame(allcheck, columns=['date'])\n",
        "# Contar los check-ins por día\n",
        "#checkday = df_checkins.groupby(df_checkins['date'].dt.date).size()\n",
        "# Mostrar los días con más check-ins\n",
        "#checkday.sort_values(ascending=False).head()"
      ]
    },
    {
      "cell_type": "code",
      "execution_count": 10,
      "metadata": {},
      "outputs": [],
      "source": [
        "df_check = df_check.loc[:, ~df_check.columns.str.contains('^Unnamed')]"
      ]
    },
    {
      "cell_type": "code",
      "execution_count": 14,
      "metadata": {},
      "outputs": [
        {
          "data": {
            "text/html": [
              "<div>\n",
              "<style scoped>\n",
              "    .dataframe tbody tr th:only-of-type {\n",
              "        vertical-align: middle;\n",
              "    }\n",
              "\n",
              "    .dataframe tbody tr th {\n",
              "        vertical-align: top;\n",
              "    }\n",
              "\n",
              "    .dataframe thead th {\n",
              "        text-align: right;\n",
              "    }\n",
              "</style>\n",
              "<table border=\"1\" class=\"dataframe\">\n",
              "  <thead>\n",
              "    <tr style=\"text-align: right;\">\n",
              "      <th></th>\n",
              "      <th>business_id</th>\n",
              "      <th>date</th>\n",
              "    </tr>\n",
              "    <tr>\n",
              "      <th>checkin_id</th>\n",
              "      <th></th>\n",
              "      <th></th>\n",
              "    </tr>\n",
              "  </thead>\n",
              "  <tbody>\n",
              "    <tr>\n",
              "      <th>0</th>\n",
              "      <td>---kPU91CF4Lq2-WlRu9Lw</td>\n",
              "      <td>[2020-03-13 21:10:56, 2020-06-02 22:18:06, 2020-07-24 22:42:27, 2020-10-24 21:36:13, 2020-12-09 21:23:33, 2021-01-20 17:34:57, 2021-04-30 21:02:03, 2021-05-25 21:16:54, 2021-08-06 21:08:08, 2021-10-02 15:15:42, 2021-11-11 16:23:50]</td>\n",
              "    </tr>\n",
              "    <tr>\n",
              "      <th>1</th>\n",
              "      <td>--0iUa4sNDFiZFrAdIWhZQ</td>\n",
              "      <td>[2010-09-13 21:43:09, 2011-05-04 23:08:15, 2011-07-18 22:30:31, 2012-09-07 20:28:50, 2013-03-27 15:57:36, 2013-08-13 00:31:34, 2013-08-13 00:31:48, 2013-09-23 17:39:38, 2013-11-18 06:34:08, 2014-04-12 23:04:47]</td>\n",
              "    </tr>\n",
              "    <tr>\n",
              "      <th>2</th>\n",
              "      <td>--30_8IhuyMHbSOcNWd6DQ</td>\n",
              "      <td>[2013-06-14 23:29:17, 2014-08-13 23:20:22]</td>\n",
              "    </tr>\n",
              "    <tr>\n",
              "      <th>3</th>\n",
              "      <td>--7PUidqRWpRSpXebiyxTg</td>\n",
              "      <td>[2011-02-15 17:12:00, 2011-07-28 02:46:10, 2012-03-11 10:30:02, 2012-04-24 07:07:59, 2012-04-24 07:43:31, 2013-05-25 16:41:10, 2014-05-02 15:49:55, 2014-09-18 02:28:23, 2014-11-10 15:16:43, 2015-09-27 13:18:32]</td>\n",
              "    </tr>\n",
              "    <tr>\n",
              "      <th>4</th>\n",
              "      <td>--7jw19RH9JKXgFohspgQw</td>\n",
              "      <td>[2014-04-21 20:42:11, 2014-04-28 21:04:46, 2014-09-30 14:41:47, 2014-10-23 18:22:28, 2015-04-27 19:55:00, 2015-09-21 12:52:09, 2015-10-01 12:46:16, 2015-10-22 13:35:04, 2016-01-14 12:27:43, 2016-02-01 15:15:07, 2016-02-11 12:22:47, 2016-03-31 23:15:46, 2016-04-11 13:11:34, 2016-05-25 12:44:11, 2016-06-27 15:46:11, 2016-06-30 15:14:28, 2016-07-28 14:15:59, 2016-09-22 20:05:06, 2016-11-16 19:00:11, 2016-12-27 14:36:14, 2017-01-24 20:18:16, 2017-02-21 16:01:49, 2017-03-21 14:08:44, 2017-05-21 16:07:21, 2017-08-07 14:17:39, 2021-06-21 19:59:50]</td>\n",
              "    </tr>\n",
              "  </tbody>\n",
              "</table>\n",
              "</div>"
            ],
            "text/plain": [
              "                       business_id  \\\n",
              "checkin_id                           \n",
              "0           ---kPU91CF4Lq2-WlRu9Lw   \n",
              "1           --0iUa4sNDFiZFrAdIWhZQ   \n",
              "2           --30_8IhuyMHbSOcNWd6DQ   \n",
              "3           --7PUidqRWpRSpXebiyxTg   \n",
              "4           --7jw19RH9JKXgFohspgQw   \n",
              "\n",
              "                                                                                                                                                                                                                                                                                                                                                                                                                                                                                                                                                                          date  \n",
              "checkin_id                                                                                                                                                                                                                                                                                                                                                                                                                                                                                                                                                                      \n",
              "0                                                                                                                                                                                                                                                                                                                                      [2020-03-13 21:10:56, 2020-06-02 22:18:06, 2020-07-24 22:42:27, 2020-10-24 21:36:13, 2020-12-09 21:23:33, 2021-01-20 17:34:57, 2021-04-30 21:02:03, 2021-05-25 21:16:54, 2021-08-06 21:08:08, 2021-10-02 15:15:42, 2021-11-11 16:23:50]  \n",
              "1                                                                                                                                                                                                                                                                                                                                                           [2010-09-13 21:43:09, 2011-05-04 23:08:15, 2011-07-18 22:30:31, 2012-09-07 20:28:50, 2013-03-27 15:57:36, 2013-08-13 00:31:34, 2013-08-13 00:31:48, 2013-09-23 17:39:38, 2013-11-18 06:34:08, 2014-04-12 23:04:47]  \n",
              "2                                                                                                                                                                                                                                                                                                                                                                                                                                                                                                                                   [2013-06-14 23:29:17, 2014-08-13 23:20:22]  \n",
              "3                                                                                                                                                                                                                                                                                                                                                           [2011-02-15 17:12:00, 2011-07-28 02:46:10, 2012-03-11 10:30:02, 2012-04-24 07:07:59, 2012-04-24 07:43:31, 2013-05-25 16:41:10, 2014-05-02 15:49:55, 2014-09-18 02:28:23, 2014-11-10 15:16:43, 2015-09-27 13:18:32]  \n",
              "4           [2014-04-21 20:42:11, 2014-04-28 21:04:46, 2014-09-30 14:41:47, 2014-10-23 18:22:28, 2015-04-27 19:55:00, 2015-09-21 12:52:09, 2015-10-01 12:46:16, 2015-10-22 13:35:04, 2016-01-14 12:27:43, 2016-02-01 15:15:07, 2016-02-11 12:22:47, 2016-03-31 23:15:46, 2016-04-11 13:11:34, 2016-05-25 12:44:11, 2016-06-27 15:46:11, 2016-06-30 15:14:28, 2016-07-28 14:15:59, 2016-09-22 20:05:06, 2016-11-16 19:00:11, 2016-12-27 14:36:14, 2017-01-24 20:18:16, 2017-02-21 16:01:49, 2017-03-21 14:08:44, 2017-05-21 16:07:21, 2017-08-07 14:17:39, 2021-06-21 19:59:50]  "
            ]
          },
          "execution_count": 14,
          "metadata": {},
          "output_type": "execute_result"
        }
      ],
      "source": [
        "df_check.head()"
      ]
    },
    {
      "cell_type": "markdown",
      "metadata": {},
      "source": [
        "Para que se pueda trabajar mejores los datos, voy a aplanar la columna \"date\"."
      ]
    },
    {
      "cell_type": "code",
      "execution_count": 19,
      "metadata": {},
      "outputs": [
        {
          "data": {
            "text/html": [
              "<div>\n",
              "<style scoped>\n",
              "    .dataframe tbody tr th:only-of-type {\n",
              "        vertical-align: middle;\n",
              "    }\n",
              "\n",
              "    .dataframe tbody tr th {\n",
              "        vertical-align: top;\n",
              "    }\n",
              "\n",
              "    .dataframe thead th {\n",
              "        text-align: right;\n",
              "    }\n",
              "</style>\n",
              "<table border=\"1\" class=\"dataframe\">\n",
              "  <thead>\n",
              "    <tr style=\"text-align: right;\">\n",
              "      <th></th>\n",
              "      <th>business_id</th>\n",
              "      <th>date</th>\n",
              "    </tr>\n",
              "    <tr>\n",
              "      <th>checkin_id</th>\n",
              "      <th></th>\n",
              "      <th></th>\n",
              "    </tr>\n",
              "  </thead>\n",
              "  <tbody>\n",
              "    <tr>\n",
              "      <th>0</th>\n",
              "      <td>---kPU91CF4Lq2-WlRu9Lw</td>\n",
              "      <td>2020-03-13 21:10:56</td>\n",
              "    </tr>\n",
              "    <tr>\n",
              "      <th>0</th>\n",
              "      <td>---kPU91CF4Lq2-WlRu9Lw</td>\n",
              "      <td>2020-06-02 22:18:06</td>\n",
              "    </tr>\n",
              "    <tr>\n",
              "      <th>0</th>\n",
              "      <td>---kPU91CF4Lq2-WlRu9Lw</td>\n",
              "      <td>2020-07-24 22:42:27</td>\n",
              "    </tr>\n",
              "    <tr>\n",
              "      <th>0</th>\n",
              "      <td>---kPU91CF4Lq2-WlRu9Lw</td>\n",
              "      <td>2020-10-24 21:36:13</td>\n",
              "    </tr>\n",
              "    <tr>\n",
              "      <th>0</th>\n",
              "      <td>---kPU91CF4Lq2-WlRu9Lw</td>\n",
              "      <td>2020-12-09 21:23:33</td>\n",
              "    </tr>\n",
              "  </tbody>\n",
              "</table>\n",
              "</div>"
            ],
            "text/plain": [
              "                       business_id                date\n",
              "checkin_id                                            \n",
              "0           ---kPU91CF4Lq2-WlRu9Lw 2020-03-13 21:10:56\n",
              "0           ---kPU91CF4Lq2-WlRu9Lw 2020-06-02 22:18:06\n",
              "0           ---kPU91CF4Lq2-WlRu9Lw 2020-07-24 22:42:27\n",
              "0           ---kPU91CF4Lq2-WlRu9Lw 2020-10-24 21:36:13\n",
              "0           ---kPU91CF4Lq2-WlRu9Lw 2020-12-09 21:23:33"
            ]
          },
          "execution_count": 19,
          "metadata": {},
          "output_type": "execute_result"
        }
      ],
      "source": [
        "df_prueba=pd.DataFrame(df_check)\n",
        "df_explode=df_prueba.explode('date')\n",
        "df_explode.head()\n",
        "df_checkin=df_explode"
      ]
    },
    {
      "cell_type": "markdown",
      "metadata": {
        "id": "pjDFz0riBODT"
      },
      "source": [
        "Con los datos analizados vamos a hacer un grafico de barra sobre los 5 años, donde se hicieron mas entradas \"checkin\", para poder analizar un tamaño menor de datos y dejar atras los años que menos se hicieron."
      ]
    },
    {
      "cell_type": "code",
      "execution_count": 25,
      "metadata": {
        "colab": {
          "base_uri": "https://localhost:8080/",
          "height": 585
        },
        "id": "hGQt3a4c_7Ka",
        "outputId": "fb2dc68e-87fe-4d89-e5a8-e465ddabaea0"
      },
      "outputs": [
        {
          "data": {
            "image/png": "[encoded data removed]",
            "text/plain": [
              "<Figure size 1000x600 with 1 Axes>"
            ]
          },
          "metadata": {},
          "output_type": "display_data"
        }
      ],
      "source": [
        "import matplotlib.pyplot as plt\n",
        "# Desplegar la lista de check-ins en filas\n",
        "checkdates = df_explode.explode('date')\n",
        "checkdates['date'] = pd.to_datetime(checkdates['date'])\n",
        "checkdates['year'] = checkdates['date'].dt.year\n",
        "# Obtener la cuenta de check-ins por año\n",
        "checkcounts = checkdates['year'].value_counts().sort_index()\n",
        "# Gráfico 1: Todos los años con la cantidad de check-ins\n",
        "plt.figure(figsize=(10, 6))\n",
        "checkcounts.plot(kind='bar', color='lightgreen')\n",
        "plt.title('Check-ins por Año')\n",
        "plt.xlabel('Año')\n",
        "plt.ylabel('Cantidad de Check-ins')\n",
        "plt.xticks(rotation=45)\n",
        "plt.grid(axis='y', linestyle='--')\n",
        "plt.show()"
      ]
    },
    {
      "cell_type": "markdown",
      "metadata": {
        "id": "KXoZZ0__Co8o"
      },
      "source": [
        "En este grafico se puede ver que la cantidad de CHECKIN, se fue disminuyendo al pasar los años desde el 2015 al 2021 que es el ultimo año de estudio."
      ]
    },
    {
      "cell_type": "code",
      "execution_count": 26,
      "metadata": {},
      "outputs": [
        {
          "data": {
            "image/png": "[encoded data removed]",
            "text/plain": [
              "<Figure size 1000x600 with 1 Axes>"
            ]
          },
          "metadata": {},
          "output_type": "display_data"
        }
      ],
      "source": [
        "# Gráfico 2: Los 5 mejores años con más check-ins\n",
        "dftopyears = checkcounts.nlargest(5)\n",
        "\n",
        "plt.figure(figsize=(10, 6))\n",
        "dftopyears.sort_index().plot(kind='bar', color='skyblue')\n",
        "plt.title('Top 5 años con más Check-ins')\n",
        "plt.xlabel('Año')\n",
        "plt.ylabel('Cantidad de Check-ins')\n",
        "plt.xticks(rotation=45)\n",
        "plt.grid(axis='y', linestyle='--')\n",
        "plt.show()"
      ]
    },
    {
      "cell_type": "markdown",
      "metadata": {},
      "source": [
        "Aca en esta grafica se filtraron los 5 mejores años, donde el negocio tuvo mas CHECK IN."
      ]
    },
    {
      "cell_type": "code",
      "execution_count": 27,
      "metadata": {
        "colab": {
          "base_uri": "https://localhost:8080/"
        },
        "id": "qmvCOiwTTHvI",
        "outputId": "d1f35690-911c-4505-9dfe-c8e65c20caa5"
      },
      "outputs": [],
      "source": [
        "# Extraer la hora de los check-ins\n",
        "df_explode['hour'] = df_explode['date'].dt.hour\n",
        "# Contar los check-ins por hora\n",
        "checkins_per_hour = df_explode.groupby('hour').size()\n",
        "# Mostrar los resultados\n"
      ]
    },
    {
      "cell_type": "code",
      "execution_count": 28,
      "metadata": {
        "colab": {
          "base_uri": "https://localhost:8080/",
          "height": 491
        },
        "id": "VUCSKrR0T6AG",
        "outputId": "a802083b-2f6b-4391-ebce-079999acb1fa"
      },
      "outputs": [
        {
          "data": {
            "image/png": "[encoded data removed]",
            "text/plain": [
              "<Figure size 1000x500 with 1 Axes>"
            ]
          },
          "metadata": {},
          "output_type": "display_data"
        }
      ],
      "source": [
        "import matplotlib.pyplot as plt\n",
        "\n",
        "# Graficar check-ins por hora del día\n",
        "checkins_per_hour.plot(kind='bar', figsize=(10,5))\n",
        "plt.title('Check-ins por hora del día')\n",
        "plt.xlabel('Hora')\n",
        "plt.ylabel('Cantidad de Check-ins')\n",
        "plt.show()"
      ]
    },
    {
      "cell_type": "markdown",
      "metadata": {
        "id": "6luiMjc_HoF1"
      },
      "source": [
        "El grafico anterior nos grafica, la realidad de los negocios, ya que las menores cantidades de checkin se dan en las hora de la mañana desde las 5 AM hasta las 11 AM."
      ]
    },
    {
      "cell_type": "code",
      "execution_count": 30,
      "metadata": {
        "colab": {
          "base_uri": "https://localhost:8080/"
        },
        "id": "IYXsiARUU1mS",
        "outputId": "84651bdc-65a3-458a-d6ea-38c602f8aaa5"
      },
      "outputs": [],
      "source": [
        "df_explode['weekday'] = df_explode['date'].dt.day_name()\n",
        "checkins_per_weekday = df_explode.groupby('weekday').size()\n",
        "df_check=checkins_per_weekday"
      ]
    },
    {
      "cell_type": "code",
      "execution_count": 31,
      "metadata": {
        "colab": {
          "base_uri": "https://localhost:8080/",
          "height": 595
        },
        "id": "IKcDd2W_FUB9",
        "outputId": "0347fc97-cfd5-4ac6-b30b-f298a4979c40"
      },
      "outputs": [
        {
          "data": {
            "image/png": "[encoded data removed]",
            "text/plain": [
              "<Figure size 1000x600 with 1 Axes>"
            ]
          },
          "metadata": {},
          "output_type": "display_data"
        }
      ],
      "source": [
        "# Desplegar la lista de check-ins en filas\n",
        "checkin_dates = df_explode.explode('date')\n",
        "checkin_dates['date'] = pd.to_datetime(checkin_dates['date'])\n",
        "checkin_dates['day_of_week'] = checkin_dates['date'].dt.day_name()\n",
        "\n",
        "# Contar check-ins por día de la semana\n",
        "checkinday = checkin_dates['day_of_week'].value_counts().reindex(\n",
        "    ['Monday', 'Tuesday', 'Wednesday', 'Thursday', 'Friday', 'Saturday', 'Sunday'])\n",
        "# Graficar\n",
        "plt.figure(figsize=(10, 6))\n",
        "checkinday.plot(kind='bar', color='lightgreen', alpha=0.7)\n",
        "plt.title('Cantidad de Check-ins por Día de la Semana')\n",
        "plt.xlabel('Día de la Semana')\n",
        "plt.ylabel('Cantidad de Check-ins')\n",
        "plt.xticks(rotation=45)\n",
        "plt.grid(axis='y', linestyle='--')\n",
        "plt.tight_layout()\n",
        "plt.show()"
      ]
    },
    {
      "cell_type": "code",
      "execution_count": 35,
      "metadata": {},
      "outputs": [
        {
          "data": {
            "text/html": [
              "<div>\n",
              "<style scoped>\n",
              "    .dataframe tbody tr th:only-of-type {\n",
              "        vertical-align: middle;\n",
              "    }\n",
              "\n",
              "    .dataframe tbody tr th {\n",
              "        vertical-align: top;\n",
              "    }\n",
              "\n",
              "    .dataframe thead th {\n",
              "        text-align: right;\n",
              "    }\n",
              "</style>\n",
              "<table border=\"1\" class=\"dataframe\">\n",
              "  <thead>\n",
              "    <tr style=\"text-align: right;\">\n",
              "      <th></th>\n",
              "      <th>business_id</th>\n",
              "      <th>date</th>\n",
              "      <th>hour</th>\n",
              "      <th>weekday</th>\n",
              "    </tr>\n",
              "    <tr>\n",
              "      <th>checkin_id</th>\n",
              "      <th></th>\n",
              "      <th></th>\n",
              "      <th></th>\n",
              "      <th></th>\n",
              "    </tr>\n",
              "  </thead>\n",
              "  <tbody>\n",
              "    <tr>\n",
              "      <th>0</th>\n",
              "      <td>---kPU91CF4Lq2-WlRu9Lw</td>\n",
              "      <td>2020-03-13 21:10:56</td>\n",
              "      <td>21</td>\n",
              "      <td>Friday</td>\n",
              "    </tr>\n",
              "    <tr>\n",
              "      <th>0</th>\n",
              "      <td>---kPU91CF4Lq2-WlRu9Lw</td>\n",
              "      <td>2020-06-02 22:18:06</td>\n",
              "      <td>22</td>\n",
              "      <td>Tuesday</td>\n",
              "    </tr>\n",
              "    <tr>\n",
              "      <th>0</th>\n",
              "      <td>---kPU91CF4Lq2-WlRu9Lw</td>\n",
              "      <td>2020-07-24 22:42:27</td>\n",
              "      <td>22</td>\n",
              "      <td>Friday</td>\n",
              "    </tr>\n",
              "    <tr>\n",
              "      <th>0</th>\n",
              "      <td>---kPU91CF4Lq2-WlRu9Lw</td>\n",
              "      <td>2020-10-24 21:36:13</td>\n",
              "      <td>21</td>\n",
              "      <td>Saturday</td>\n",
              "    </tr>\n",
              "    <tr>\n",
              "      <th>0</th>\n",
              "      <td>---kPU91CF4Lq2-WlRu9Lw</td>\n",
              "      <td>2020-12-09 21:23:33</td>\n",
              "      <td>21</td>\n",
              "      <td>Wednesday</td>\n",
              "    </tr>\n",
              "  </tbody>\n",
              "</table>\n",
              "</div>"
            ],
            "text/plain": [
              "                       business_id                date  hour    weekday\n",
              "checkin_id                                                             \n",
              "0           ---kPU91CF4Lq2-WlRu9Lw 2020-03-13 21:10:56    21     Friday\n",
              "0           ---kPU91CF4Lq2-WlRu9Lw 2020-06-02 22:18:06    22    Tuesday\n",
              "0           ---kPU91CF4Lq2-WlRu9Lw 2020-07-24 22:42:27    22     Friday\n",
              "0           ---kPU91CF4Lq2-WlRu9Lw 2020-10-24 21:36:13    21   Saturday\n",
              "0           ---kPU91CF4Lq2-WlRu9Lw 2020-12-09 21:23:33    21  Wednesday"
            ]
          },
          "execution_count": 35,
          "metadata": {},
          "output_type": "execute_result"
        }
      ],
      "source": [
        "df_explode.shape\n",
        "df_explode.head()"
      ]
    },
    {
      "cell_type": "code",
      "execution_count": 37,
      "metadata": {
        "id": "xCge_fnGIa8U"
      },
      "outputs": [],
      "source": [
        "df_explode.to_csv('../Carpeta_ETL/dfcheckinYELP3.csv')"
      ]
    }
  ],
  "metadata": {
    "colab": {
      "provenance": []
    },
    "kernelspec": {
      "display_name": "envirtualFinal",
      "language": "python",
      "name": "python3"
    },
    "language_info": {
      "codemirror_mode": {
        "name": "ipython",
        "version": 3
      },
      "file_extension": ".py",
      "mimetype": "text/x-python",
      "name": "python",
      "nbconvert_exporter": "python",
      "pygments_lexer": "ipython3",
      "version": "3.12.4"
    }
  },
  "nbformat": 4,
  "nbformat_minor": 0
}
