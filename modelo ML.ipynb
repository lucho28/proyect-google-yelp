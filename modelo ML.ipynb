{
 "cells": [
  {
   "cell_type": "code",
   "execution_count": null,
   "metadata": {},
   "outputs": [],
   "source": [
    "import pandas as pd\n",
    "\n",
    "df2 = pd.read_csv(r'C:\\Users\\rubio\\Documents\\SoyHenry\\Proyecto Final\\dfreviewYELP3_listo.csv')\n"
   ]
  },
  {
   "cell_type": "code",
   "execution_count": 6,
   "metadata": {},
   "outputs": [],
   "source": [
    "df2 = df2.drop(columns='Unnamed: 0')"
   ]
  },
  {
   "cell_type": "code",
   "execution_count": 7,
   "metadata": {},
   "outputs": [
    {
     "data": {
      "text/html": [
       "<div>\n",
       "<style scoped>\n",
       "    .dataframe tbody tr th:only-of-type {\n",
       "        vertical-align: middle;\n",
       "    }\n",
       "\n",
       "    .dataframe tbody tr th {\n",
       "        vertical-align: top;\n",
       "    }\n",
       "\n",
       "    .dataframe thead th {\n",
       "        text-align: right;\n",
       "    }\n",
       "</style>\n",
       "<table border=\"1\" class=\"dataframe\">\n",
       "  <thead>\n",
       "    <tr style=\"text-align: right;\">\n",
       "      <th></th>\n",
       "      <th>review_id</th>\n",
       "      <th>user_id</th>\n",
       "      <th>business_id</th>\n",
       "      <th>stars</th>\n",
       "      <th>useful</th>\n",
       "      <th>funny</th>\n",
       "      <th>cool</th>\n",
       "      <th>text</th>\n",
       "      <th>date</th>\n",
       "      <th>year</th>\n",
       "    </tr>\n",
       "  </thead>\n",
       "  <tbody>\n",
       "    <tr>\n",
       "      <th>0</th>\n",
       "      <td>KU_O5udG6zpxOg-VcAEodg</td>\n",
       "      <td>mh_-eMZ6K5RLWhZyISBhwA</td>\n",
       "      <td>XQfwVwDr-v0ZS3_CbbE5Xw</td>\n",
       "      <td>3</td>\n",
       "      <td>0</td>\n",
       "      <td>0</td>\n",
       "      <td>0</td>\n",
       "      <td>If you decide to eat here, just be aware it is...</td>\n",
       "      <td>2018-07-07</td>\n",
       "      <td>2018</td>\n",
       "    </tr>\n",
       "    <tr>\n",
       "      <th>1</th>\n",
       "      <td>saUsX_uimxRlCVr67Z4Jig</td>\n",
       "      <td>8g_iMtfSiwikVnbP2etR0A</td>\n",
       "      <td>YjUWPpI6HXG530lwP-fb2A</td>\n",
       "      <td>3</td>\n",
       "      <td>0</td>\n",
       "      <td>0</td>\n",
       "      <td>0</td>\n",
       "      <td>Family diner. Had the buffet. Eclectic assortm...</td>\n",
       "      <td>2014-02-05</td>\n",
       "      <td>2014</td>\n",
       "    </tr>\n",
       "    <tr>\n",
       "      <th>2</th>\n",
       "      <td>pUycOfUwM8vqX7KjRRhUEA</td>\n",
       "      <td>59MxRhNVhU9MYndMkz0wtw</td>\n",
       "      <td>gebiRewfieSdtt17PTW6Zg</td>\n",
       "      <td>3</td>\n",
       "      <td>0</td>\n",
       "      <td>0</td>\n",
       "      <td>0</td>\n",
       "      <td>Had a party of 6 here for hibachi. Our waitres...</td>\n",
       "      <td>2016-07-25</td>\n",
       "      <td>2016</td>\n",
       "    </tr>\n",
       "    <tr>\n",
       "      <th>3</th>\n",
       "      <td>XW_LfMv0fV21l9c6xQd_lw</td>\n",
       "      <td>9OAtfnWag-ajVxRbUTGIyg</td>\n",
       "      <td>lj-E32x9_FA7GmUrBGBEWg</td>\n",
       "      <td>4</td>\n",
       "      <td>0</td>\n",
       "      <td>0</td>\n",
       "      <td>0</td>\n",
       "      <td>Love going here for happy hour or dinner!  Gre...</td>\n",
       "      <td>2014-06-27</td>\n",
       "      <td>2014</td>\n",
       "    </tr>\n",
       "    <tr>\n",
       "      <th>4</th>\n",
       "      <td>8JFGBuHMoiNDyfcxuWNtrA</td>\n",
       "      <td>smOvOajNG0lS4Pq7d8g4JQ</td>\n",
       "      <td>RZtGWDLCAtuipwaZ-UfjmQ</td>\n",
       "      <td>4</td>\n",
       "      <td>0</td>\n",
       "      <td>0</td>\n",
       "      <td>0</td>\n",
       "      <td>Good food--loved the gnocchi with marinara\\nth...</td>\n",
       "      <td>2009-10-14</td>\n",
       "      <td>2009</td>\n",
       "    </tr>\n",
       "  </tbody>\n",
       "</table>\n",
       "</div>"
      ],
      "text/plain": [
       "                review_id                 user_id             business_id  \\\n",
       "0  KU_O5udG6zpxOg-VcAEodg  mh_-eMZ6K5RLWhZyISBhwA  XQfwVwDr-v0ZS3_CbbE5Xw   \n",
       "1  saUsX_uimxRlCVr67Z4Jig  8g_iMtfSiwikVnbP2etR0A  YjUWPpI6HXG530lwP-fb2A   \n",
       "2  pUycOfUwM8vqX7KjRRhUEA  59MxRhNVhU9MYndMkz0wtw  gebiRewfieSdtt17PTW6Zg   \n",
       "3  XW_LfMv0fV21l9c6xQd_lw  9OAtfnWag-ajVxRbUTGIyg  lj-E32x9_FA7GmUrBGBEWg   \n",
       "4  8JFGBuHMoiNDyfcxuWNtrA  smOvOajNG0lS4Pq7d8g4JQ  RZtGWDLCAtuipwaZ-UfjmQ   \n",
       "\n",
       "   stars  useful  funny  cool  \\\n",
       "0      3       0      0     0   \n",
       "1      3       0      0     0   \n",
       "2      3       0      0     0   \n",
       "3      4       0      0     0   \n",
       "4      4       0      0     0   \n",
       "\n",
       "                                                text        date  year  \n",
       "0  If you decide to eat here, just be aware it is...  2018-07-07  2018  \n",
       "1  Family diner. Had the buffet. Eclectic assortm...  2014-02-05  2014  \n",
       "2  Had a party of 6 here for hibachi. Our waitres...  2016-07-25  2016  \n",
       "3  Love going here for happy hour or dinner!  Gre...  2014-06-27  2014  \n",
       "4  Good food--loved the gnocchi with marinara\\nth...  2009-10-14  2009  "
      ]
     },
     "execution_count": 7,
     "metadata": {},
     "output_type": "execute_result"
    }
   ],
   "source": [
    "df2.head()"
   ]
  },
  {
   "cell_type": "markdown",
   "metadata": {},
   "source": [
    "elegimos df2 para analizar las reviews con rare-nltk"
   ]
  },
  {
   "cell_type": "code",
   "execution_count": 9,
   "metadata": {},
   "outputs": [],
   "source": [
    "text = df2['text']"
   ]
  },
  {
   "cell_type": "code",
   "execution_count": 10,
   "metadata": {},
   "outputs": [],
   "source": [
    "from rake_nltk import Rake"
   ]
  },
  {
   "cell_type": "code",
   "execution_count": 11,
   "metadata": {},
   "outputs": [],
   "source": [
    "rake = Rake(min_length=1, max_length=20)\n",
    "\n",
    "df2['keywords'] = df2['text'].apply(lambda x: rake.extract_keywords_from_text(x) or rake.get_ranked_phrases())"
   ]
  },
  {
   "cell_type": "code",
   "execution_count": 12,
   "metadata": {},
   "outputs": [
    {
     "data": {
      "text/plain": [
       "keywords                                                                                                                                                                                                                                                                                                                                                                                                                                                                                                                                                                                           [five minutes even though, would go back though, decent size dining area, 96th street naked tchopstix, 96th street location, 96th street, people would, vanilla chai, totally different, sushi bowls, sushi bowl, sushi bowl, quite yummy, next time, maui roll, low reviews, husband ordered, healthy alternative, food items, favorite roll, fast food, choices particularly, called express, bubble tea, bit slower, 4 stars, vegetables seemed, sushi place, area, vegetables, place, people, people, worth, wonderful, want, want, wait, vibe, try, try, tried, toppings, think, things, tell, tasty, take, strawberry, standard, shout, service, server, select, see, sauces, rice, rice, really, quality, proteins, piece, pick, paper, paper, order, order, one, one, oh, mcdonalds, make, love, lot, little, limiting, like, house, happy, guess, good, good, good, going, going, given, get, geared, felt, fact, excited, deliver, daughter, counter, counter, consistently, comment, closer, choice, although, ...]\n",
       "text        I was really between 3 and 4 stars for this one. I LOVE the 96th street Naked Tchopstix so I was very excited to see this one which is closer to my house.\\nThe vibe is totally different as this is geared more to take out although they do have a decent size dining area. You order at the counter and they deliver it.\\nMy daughter and I tried the sushi bowl. You pick up a piece of paper and  select from a choice of proteins, vegetables, rice and toppings. I like the fact that it is on paper and you don't have to guess what things are or have to shout over the counter to tell the server what you want. The sushi bowl was good but not wonderful. The choices particularly of the vegetables seemed a little too limiting and I felt I had more rice than other food items. The sauces were tasty. My husband ordered the Maui roll which is my favorite roll at the 96th street location and this just was not up that standard. It was good but the quality and consistently was not as good as at 96th street. I would go back though and I think a lot of people would be happy with the sushi bowls. I do want to make a comment about the low reviews that people have given the place because of service. People - it is a sushi place - it isn't McDonalds- so it will be a bit slower. You are not going to order and get out of there in five minutes even though it is called express. As a healthy alternative to fast food in the area, it is worth the wait. Oh and try the bubble tea. I had the strawberry and it was quite yummy. Next time I am going to try the vanilla chai.\n",
       "Name: 10, dtype: object"
      ]
     },
     "execution_count": 12,
     "metadata": {},
     "output_type": "execute_result"
    }
   ],
   "source": [
    "pd.set_option('display.max_colwidth', None)\n",
    "\n",
    "df2[['keywords','text']].iloc[10]"
   ]
  },
  {
   "cell_type": "code",
   "execution_count": 13,
   "metadata": {},
   "outputs": [
    {
     "data": {
      "text/plain": [
       "101"
      ]
     },
     "execution_count": 13,
     "metadata": {},
     "output_type": "execute_result"
    }
   ],
   "source": [
    "len(df2['keywords'][10])"
   ]
  },
  {
   "cell_type": "code",
   "execution_count": 14,
   "metadata": {},
   "outputs": [],
   "source": [
    "# Configuración de RAKE\n",
    "rake = Rake(min_length=1, max_length=20)  # Aquí puedes ajustar la longitud mínima y máxima\n",
    "\n",
    "# Extraer frases con puntuaciones de relevancia y filtrarlas por puntaje\n",
    "def extract_top_keywords(text, threshold=4.0):\n",
    "    rake.extract_keywords_from_text(text)\n",
    "    ranked_phrases_with_scores = rake.get_ranked_phrases_with_scores()\n",
    "    # Filtra frases con una puntuación mayor al umbral\n",
    "    top_keywords = [phrase for score, phrase in ranked_phrases_with_scores if score >= threshold]\n",
    "    return top_keywords if top_keywords else None\n",
    "\n",
    "# Aplicar la función y ver los resultados\n",
    "df2['keywords3'] = df2['text'].apply(extract_top_keywords)\n"
   ]
  },
  {
   "cell_type": "code",
   "execution_count": 15,
   "metadata": {},
   "outputs": [
    {
     "ename": "KeyError",
     "evalue": "'keywords2'",
     "output_type": "error",
     "traceback": [
      "\u001b[1;31m---------------------------------------------------------------------------\u001b[0m",
      "\u001b[1;31mKeyError\u001b[0m                                  Traceback (most recent call last)",
      "File \u001b[1;32m~\\AppData\\Roaming\\Python\\Python311\\site-packages\\pandas\\core\\indexes\\base.py:3802\u001b[0m, in \u001b[0;36mIndex.get_loc\u001b[1;34m(self, key)\u001b[0m\n\u001b[0;32m   3801\u001b[0m \u001b[38;5;28;01mtry\u001b[39;00m:\n\u001b[1;32m-> 3802\u001b[0m     \u001b[38;5;28;01mreturn\u001b[39;00m \u001b[38;5;28;43mself\u001b[39;49m\u001b[38;5;241;43m.\u001b[39;49m\u001b[43m_engine\u001b[49m\u001b[38;5;241;43m.\u001b[39;49m\u001b[43mget_loc\u001b[49m\u001b[43m(\u001b[49m\u001b[43mcasted_key\u001b[49m\u001b[43m)\u001b[49m\n\u001b[0;32m   3803\u001b[0m \u001b[38;5;28;01mexcept\u001b[39;00m \u001b[38;5;167;01mKeyError\u001b[39;00m \u001b[38;5;28;01mas\u001b[39;00m err:\n",
      "File \u001b[1;32mindex.pyx:153\u001b[0m, in \u001b[0;36mpandas._libs.index.IndexEngine.get_loc\u001b[1;34m()\u001b[0m\n",
      "File \u001b[1;32mindex.pyx:182\u001b[0m, in \u001b[0;36mpandas._libs.index.IndexEngine.get_loc\u001b[1;34m()\u001b[0m\n",
      "File \u001b[1;32mpandas\\\\_libs\\\\hashtable_class_helper.pxi:7081\u001b[0m, in \u001b[0;36mpandas._libs.hashtable.PyObjectHashTable.get_item\u001b[1;34m()\u001b[0m\n",
      "File \u001b[1;32mpandas\\\\_libs\\\\hashtable_class_helper.pxi:7089\u001b[0m, in \u001b[0;36mpandas._libs.hashtable.PyObjectHashTable.get_item\u001b[1;34m()\u001b[0m\n",
      "\u001b[1;31mKeyError\u001b[0m: 'keywords2'",
      "\nThe above exception was the direct cause of the following exception:\n",
      "\u001b[1;31mKeyError\u001b[0m                                  Traceback (most recent call last)",
      "Cell \u001b[1;32mIn[15], line 1\u001b[0m\n\u001b[1;32m----> 1\u001b[0m \u001b[43mdf2\u001b[49m\u001b[43m[\u001b[49m\u001b[38;5;124;43m'\u001b[39;49m\u001b[38;5;124;43mkeywords2\u001b[39;49m\u001b[38;5;124;43m'\u001b[39;49m\u001b[43m]\u001b[49m \u001b[38;5;66;03m#threshold = 3\u001b[39;00m\n",
      "File \u001b[1;32m~\\AppData\\Roaming\\Python\\Python311\\site-packages\\pandas\\core\\frame.py:4090\u001b[0m, in \u001b[0;36mDataFrame.__getitem__\u001b[1;34m(self, key)\u001b[0m\n\u001b[0;32m   4088\u001b[0m \u001b[38;5;28;01mif\u001b[39;00m \u001b[38;5;28mself\u001b[39m\u001b[38;5;241m.\u001b[39mcolumns\u001b[38;5;241m.\u001b[39mnlevels \u001b[38;5;241m>\u001b[39m \u001b[38;5;241m1\u001b[39m:\n\u001b[0;32m   4089\u001b[0m     \u001b[38;5;28;01mreturn\u001b[39;00m \u001b[38;5;28mself\u001b[39m\u001b[38;5;241m.\u001b[39m_getitem_multilevel(key)\n\u001b[1;32m-> 4090\u001b[0m indexer \u001b[38;5;241m=\u001b[39m \u001b[38;5;28;43mself\u001b[39;49m\u001b[38;5;241;43m.\u001b[39;49m\u001b[43mcolumns\u001b[49m\u001b[38;5;241;43m.\u001b[39;49m\u001b[43mget_loc\u001b[49m\u001b[43m(\u001b[49m\u001b[43mkey\u001b[49m\u001b[43m)\u001b[49m\n\u001b[0;32m   4091\u001b[0m \u001b[38;5;28;01mif\u001b[39;00m is_integer(indexer):\n\u001b[0;32m   4092\u001b[0m     indexer \u001b[38;5;241m=\u001b[39m [indexer]\n",
      "File \u001b[1;32m~\\AppData\\Roaming\\Python\\Python311\\site-packages\\pandas\\core\\indexes\\base.py:3809\u001b[0m, in \u001b[0;36mIndex.get_loc\u001b[1;34m(self, key)\u001b[0m\n\u001b[0;32m   3804\u001b[0m     \u001b[38;5;28;01mif\u001b[39;00m \u001b[38;5;28misinstance\u001b[39m(casted_key, \u001b[38;5;28mslice\u001b[39m) \u001b[38;5;129;01mor\u001b[39;00m (\n\u001b[0;32m   3805\u001b[0m         \u001b[38;5;28misinstance\u001b[39m(casted_key, abc\u001b[38;5;241m.\u001b[39mIterable)\n\u001b[0;32m   3806\u001b[0m         \u001b[38;5;129;01mand\u001b[39;00m \u001b[38;5;28many\u001b[39m(\u001b[38;5;28misinstance\u001b[39m(x, \u001b[38;5;28mslice\u001b[39m) \u001b[38;5;28;01mfor\u001b[39;00m x \u001b[38;5;129;01min\u001b[39;00m casted_key)\n\u001b[0;32m   3807\u001b[0m     ):\n\u001b[0;32m   3808\u001b[0m         \u001b[38;5;28;01mraise\u001b[39;00m InvalidIndexError(key)\n\u001b[1;32m-> 3809\u001b[0m     \u001b[38;5;28;01mraise\u001b[39;00m \u001b[38;5;167;01mKeyError\u001b[39;00m(key) \u001b[38;5;28;01mfrom\u001b[39;00m \u001b[38;5;21;01merr\u001b[39;00m\n\u001b[0;32m   3810\u001b[0m \u001b[38;5;28;01mexcept\u001b[39;00m \u001b[38;5;167;01mTypeError\u001b[39;00m:\n\u001b[0;32m   3811\u001b[0m     \u001b[38;5;66;03m# If we have a listlike key, _check_indexing_error will raise\u001b[39;00m\n\u001b[0;32m   3812\u001b[0m     \u001b[38;5;66;03m#  InvalidIndexError. Otherwise we fall through and re-raise\u001b[39;00m\n\u001b[0;32m   3813\u001b[0m     \u001b[38;5;66;03m#  the TypeError.\u001b[39;00m\n\u001b[0;32m   3814\u001b[0m     \u001b[38;5;28mself\u001b[39m\u001b[38;5;241m.\u001b[39m_check_indexing_error(key)\n",
      "\u001b[1;31mKeyError\u001b[0m: 'keywords2'"
     ]
    }
   ],
   "source": [
    "df2['keywords2'] #threshold = 3"
   ]
  },
  {
   "cell_type": "code",
   "execution_count": 16,
   "metadata": {},
   "outputs": [
    {
     "data": {
      "text/plain": [
       "0                                                                                                                                                                                                                                                                                                                                                                                                                                                                                                                                                                        [usually pleasant, usually opt, spent way, multiple times, many experiences, long waiting, long time, done quicker, bad experience, another diner, 2 hours]\n",
       "1                                                                                                                                                                                                                                                                                                                                                                                                                                                                                                                     [two rolled grape leaves, large chicken leg, casual relaxed meal, mexican choices, fried jalapeño, fresh melon, family diner, eclectic assortment, day long, clarion hotel, breakfast served, attentive staff]\n",
       "2                                                                                                                                                                                                                                                                                                                                                                                                                                                                                                             [cook said maybe three words, understand making mistakes, separate sushi orders, fun lively experience, forgot several items, waitress brought, really tell, really quiet, pretty good, one plate, im hoping, go back]\n",
       "3                                                                                                                                                                                                                                                                                                                                                                                                                                                                                                                                                                                                                                     [mixed greens instead, veal milanese, stl heat, love going, happy hour, great patio, also ...]\n",
       "4                                                                                                                                                                                                                                                                                                                                                                                                                                                                                                                                                                                                                                                                            [good food -- loved, baked eggplant appetizer, go back]\n",
       "                                                                                                                                                                                                                                                                                                                                                                     ...                                                                                                                                                                                                                                                                                                                                                            \n",
       "185440                                                                                                                                                                                                                                                                                                                                                 [person since el sitio, like zero green chiles, pico de gallo, locations around town, first things first, literally like water, lime really brings, giving multiple calls, never really given, zero consistency, really disappointed, wanted food, pretty upset, past times, long day, lemons cut, highly recommend, finally walk, definitely check, condiments bar, 3 stars]\n",
       "185441                                                                                                                                                                                                                                                                                                                                                                                                                                                                                                                                             [memorial weekend friday evening, best chain burger joint, also gets cole slaw, wife actually asks, really good, pleasurable experience, free bun, always enjoys, always culvers]\n",
       "185442                                                                                                                                                                                                                                                                                                                                                                                                                                                               [small parking lot next, free street parking, outside seating available, hard time believing, feel even better, love three carrots, three carrots, even though, vegan diner, typically eat, packed half, mortor location, large portion, city market, bar area]\n",
       "185443                                                                                                                                                                                                                                                                                                                                                                                                                                                                                                                                                                              [put ice cream, old school dinner, love inside ..., look like .\", two people, take home, name fool, make sure, chocolate milkshake, also bought]\n",
       "185444    [hold upper management positions, dogs bothered anyone around us, first ever yelp review, said extremely condescending, obviously feeling terrible, immediately head back, first time around, whole different story, situation extremely respectfully, neighbors crazy \"., service manager tomorrow, experience around, ever experienced, first interaction, different gentleman, customer service, unfortunate situation, situation much, tell us, security cameras, san francisco, revered institutions, pics portray, opened door, next morning, never met, left two, initial conversation, front desk, front desk, friendly follow, even know, even 10pm, dogs alone, dog may, completely unlike, brusquely responded]\n",
       "Name: keywords3, Length: 185445, dtype: object"
      ]
     },
     "execution_count": 16,
     "metadata": {},
     "output_type": "execute_result"
    }
   ],
   "source": [
    "df2['keywords3'] #threshold = 8"
   ]
  },
  {
   "cell_type": "code",
   "execution_count": 17,
   "metadata": {},
   "outputs": [
    {
     "data": {
      "text/plain": [
       "335"
      ]
     },
     "execution_count": 17,
     "metadata": {},
     "output_type": "execute_result"
    }
   ],
   "source": [
    "df2['keywords3'].isna().sum() #threshold = 8"
   ]
  },
  {
   "cell_type": "code",
   "execution_count": 18,
   "metadata": {},
   "outputs": [
    {
     "data": {
      "text/plain": [
       "review_id                                                                                                                                    AstAlSeWTjE6MQQMglCKYw\n",
       "user_id                                                                                                                                      GA-sZePSRk0u9HdxBlx_Lw\n",
       "business_id                                                                                                                                  TDKBPcViJQDMrdUm6a9XZA\n",
       "stars                                                                                                                                                             3\n",
       "useful                                                                                                                                                            1\n",
       "funny                                                                                                                                                             0\n",
       "cool                                                                                                                                                              0\n",
       "text           Ok beer. Ok food. We like breweries because we have a kid and like beer. So we go to a lot of breweries. The service was excellent. Food, beer, good\n",
       "date                                                                                                                                                     2016-01-17\n",
       "year                                                                                                                                                           2016\n",
       "keywords                                               [ok beer, like beer, ok food, like breweries, beer, food, breweries, service, lot, kid, good, go, excellent]\n",
       "keywords3                                                                                                                                                      None\n",
       "Name: 1119, dtype: object"
      ]
     },
     "execution_count": 18,
     "metadata": {},
     "output_type": "execute_result"
    }
   ],
   "source": [
    "df2[df2['keywords3'].isna()].iloc[0]"
   ]
  },
  {
   "cell_type": "code",
   "execution_count": 19,
   "metadata": {},
   "outputs": [],
   "source": [
    "import spacy\n",
    "\n",
    "nlp = spacy.load(\"en_core_web_sm\") # Tokenizador"
   ]
  },
  {
   "cell_type": "markdown",
   "metadata": {},
   "source": [
    "Lista de entidades que se pueden extrer con spacy:\n",
    "\n",
    ". PERSON: Personas, incluidos nombres de pila y apellidos.\n",
    ". NORP: Nacionalidades o afiliaciones religiosas o políticas (ej., \"americano\", \"cristiano\").\n",
    ". FAC: Edificios, aeropuertos, carreteras, puentes, etc.\n",
    ". ORG: Organizaciones, como empresas, agencias gubernamentales, instituciones.\n",
    ". GPE: Países, ciudades y estados.\n",
    ". LOC: Ubicaciones no geopolíticas (ej., montañas, cuerpos de agua).\n",
    ". PRODUCT: Objetos, vehículos, alimentos (no servicios o eventos).\n",
    ". EVENT: Nombres de eventos (ej., \"Juegos Olímpicos\", \"Super Bowl\").\n",
    ". WORK_OF_ART: Títulos de obras de arte, libros, canciones, etc.\n",
    ". LAW: Documentos legales oficiales (ej., \"Constitución\").\n",
    ". LANGUAGE: Idiomas (ej., \"inglés\", \"español\").\n",
    ". DATE: Fechas o períodos (ej., \"20 de enero\", \"1999\").\n",
    ". TIME: Horas o períodos específicos (ej., \"2 PM\", \"hace 2 horas\").\n",
    ". PERCENT: Porcentajes (ej., \"50%\").\n",
    ". MONEY: Valores monetarios (ej., \"$100\").\n",
    ". QUANTITY: Medidas (ej., \"1 kg\", \"300 metros\").\n",
    ". ORDINAL: Indicadores ordinales (ej., \"primer\", \"segundo\").\n",
    ". CARDINAL: Números enteros que no caen bajo otras categorías (ej., \"uno\", \"10\")."
   ]
  },
  {
   "cell_type": "code",
   "execution_count": null,
   "metadata": {},
   "outputs": [],
   "source": [
    "# Función para extraer palabras clave con spaCy\n",
    "def extract_spacy_keywords(text):\n",
    "    doc = nlp(text)\n",
    "    \n",
    "    # Extraer entidades y frases nominales (noun chunks)\n",
    "    keywords = set()\n",
    "    \n",
    "    # Añadir entidades nombradas\n",
    "    for ent in doc.ents:\n",
    "        if ent.label_ in {\"LOC\", \"FAC\", \"PRODUCT\", \"TIME\"}:  # Selección de tipos de entidad relevantes\n",
    "            keywords.add(ent.text)\n",
    "    \n",
    "    # Añadir frases nominales (sustantivos)\n",
    "    for chunk in doc.noun_chunks:\n",
    "        keywords.add(chunk.text.strip().lower())\n",
    "\n",
    "    # Si no hay palabras clave, devolver None\n",
    "    return list(keywords) if keywords else None\n",
    "\n",
    "# Aplicar la función al DataFrame\n",
    "df2['keyword_spacy'] = df2['text'].apply(extract_spacy_keywords)"
   ]
  },
  {
   "cell_type": "code",
   "execution_count": null,
   "metadata": {},
   "outputs": [
    {
     "data": {
      "text/plain": [
       "0                                                                                                                                                                                                                                                                                                                                                                                                                                                                                                                                                                                                                                                                                                                                                                                                [you, nj, the waitstaff, i, a bad experience, too many experiences, the food, another diner, restaurant, order, it, the weekends, a very long time, other locations, about 2 hours, we]\n",
       "1                                                                                                                                                                                                                                                                                                                                                                                                                                                                                                                                                                                                                                                                                                         [eclectic assortment, fresh melon, fried jalapeño, lots, tamale, friendly, attentive staff, good place, the buffet, a casual relaxed meal, mexican choices, a large chicken leg, a menu, two rolled grape leaves, no expectations, breakfast, family diner, the clarion hotel]\n",
       "2                                                                                                                                                                                                                                                                                                                                                                                                                                                                                                                                                                                                                                                                                                                       [just an off night, it, a fun lively experience, he, mistakes, an order, we, i, service, who, our separate sushi orders, one plate, food, the restaraunt, three words, several items, his name, our  cook, the money, hibachi, francisco, a party, our waitress]\n",
       "3                                                                                                                                                                                                                                                                                                                                                                                                                                                                                                                                                                                                                                                                                                                                                                                                                                [i, pasta, the stl heat, love, the veal milanese, the menu, your taste, this location, they, hour, great patio, fans, mixed greens, dinner, happy hour]\n",
       "4                                                                                                                                                                                                                                                                                                                                                                                                                                                                                                                                                                                                                                                                                                                                                                                                                                                                                       [the baked eggplant appetizer, i, the food, good food, the gnocchi, this, marinara, the service]\n",
       "                                                                                                                                                                                                                                                                                                                                                                                                                                                                                               ...                                                                                                                                                                                                                                                                                                                                                                                                                                                                                      \n",
       "185440                                                                                                                                                                                                                                                                                                                                                                                                 [the building, \"watering, the pico de gallo, zero consistency, it, el sitio, town, he, my order, a burrito, the phone, any problems, i, me, first things, just beans, rice, food, texture, the salsa bar, beef, this location, multiple calls, they, water, that, which, the other locations, a delicious taste, 3 stars, the burrito, just one other customer, no answer, a long day, the salsa, the salsa and condiments bar, a few lemons, some, lime, this problem, today, zero green chiles, the bin, them, my surprise, the past times, today's visit, the service, person]\n",
       "185441                                                                                                                                                                                                                                                                                                                                                                                                                                                                                                                                                                                                                                                                                                                                                            [the only fast-food restaurant, the planet, my wife, a pleasurable experience, a memorial weekend, it, culvers, this restaurant, the best chain burger, she, her, Friday evening, which, cole slaw, a gluten-free bun]\n",
       "185442                                                                                                                                                                                                                                                                                                                                                                                                                                                                                                                                                                                              [an omnivore, a hard time, the tofu, a large portion, it, half, the shepherd's bowl, a bar area, he, the store, what, three carrots, i, age, a vegan diner, my boyfriend, each meal, the leftover, myself, city market, their store, they, a meal, those, you, outside seating, their own brick and mortor location, the back, free street parking, them, that, a small parking lot]\n",
       "185443                                                                                                                                                                                                                                                                                                                                                                                                                                                                                                                                                                                                                                                                                                                                                 [love, ice cream, it, the name, a the container, the places, i, st. louis, some chocolate candy, myself, two people, they, candy, this, you, all, the taste, a chocolate milkshake, an old school dinner/candy shop, crown candy]\n",
       "185444    [his manager, the next morning, the dogs, initial conversation, dan, this man, i, the rooms, mind, the place, the room, 10pm, door, his professional and friendly follow, anyone, who, our dog, a smirk, whom, revered institutions, you, the night, the customer service, the 1-2%, both my fiancée, my first ever yelp review, even 10pm, he, the lights, we, dinner, guests, me, him, a different gentleman, my service manager, this stay, people, his name, clean and great location, Tonight, front desk, shane, their dogs, the neighbors, night, overall, very unfortunate situation, our first interaction, us, tonight, whatever, 98%, a corner-, themselves, our dogs, the front desk, a whole different story, pics, his problem, a call, no introduction, this, your dogs, the situation, them, christian, that, it, san francisco, our room, upper management positions, timers, the manager, the experience, they, the office, your room, the security cameras]\n",
       "Name: keyword_spacy, Length: 185445, dtype: object"
      ]
     },
     "execution_count": 81,
     "metadata": {},
     "output_type": "execute_result"
    }
   ],
   "source": [
    "df2['keyword_spacy']"
   ]
  },
  {
   "cell_type": "code",
   "execution_count": null,
   "metadata": {},
   "outputs": [
    {
     "data": {
      "text/plain": [
       "0"
      ]
     },
     "execution_count": 82,
     "metadata": {},
     "output_type": "execute_result"
    }
   ],
   "source": [
    "df2['keyword_spacy'].isna().sum()"
   ]
  },
  {
   "cell_type": "code",
   "execution_count": null,
   "metadata": {},
   "outputs": [
    {
     "data": {
      "text/plain": [
       "['it',\n",
       " 'salty, melty cheese',\n",
       " 'i',\n",
       " 'the masses',\n",
       " \"everyone's favorite blanket\",\n",
       " 'excellent tortilla',\n",
       " 'a little more bite',\n",
       " 'itself',\n",
       " 'a snuggie',\n",
       " 'the dominant mustard',\n",
       " 'onions',\n",
       " 'the carne asada caramelo',\n",
       " 'the pup',\n",
       " 'the sonoran dog',\n",
       " 'too much softness',\n",
       " 'the bacon',\n",
       " 'super',\n",
       " 'the hot dog',\n",
       " 'you',\n",
       " 'great carne',\n",
       " 'sleeves',\n",
       " 'warm, soft, chewy',\n",
       " 'other famed sonoran dogs',\n",
       " 'the bun',\n",
       " 'wrong']"
      ]
     },
     "execution_count": 83,
     "metadata": {},
     "output_type": "execute_result"
    }
   ],
   "source": [
    "df2['keyword_spacy'][5] # Ejemplo"
   ]
  },
  {
   "cell_type": "code",
   "execution_count": null,
   "metadata": {},
   "outputs": [],
   "source": [
    "'''\n",
    "# Prueba fallida, devuelve muchos vacios\n",
    "\n",
    "import spacy\n",
    "from spacy.lang.en.stop_words import STOP_WORDS\n",
    "\n",
    "\n",
    "# Lista de palabras irrelevantes adicionales en el contexto\n",
    "extra_stopwords = set(['restaurant', 'food', 'place', 'experience', 'time', 'service', 'order'])\n",
    "\n",
    "# Función para extraer y filtrar entidades útiles\n",
    "def extract_clean_keywords(text):\n",
    "    doc = nlp(text)\n",
    "    keywords = []\n",
    "    \n",
    "    for ent in doc.ents:\n",
    "        # Filtrar por tipo de entidad y longitud de palabra\n",
    "        if ent.label_ in {\"ORG\", \"GPE\", \"PRODUCT\", \"EVENT\"} and ent.text.lower() not in STOP_WORDS and len(ent.text) > 3:\n",
    "            keywords.append(ent.text)\n",
    "    \n",
    "    # Eliminar palabras irrelevantes y duplicados\n",
    "    cleaned_keywords = [word for word in keywords if word.lower() not in extra_stopwords]\n",
    "    return cleaned_keywords if cleaned_keywords else None\n",
    "\n",
    "# Aplicar la función a la columna 'text'\n",
    "df2['keywords_cleaned'] = df2['text'].apply(extract_clean_keywords)\n",
    "\n"
   ]
  },
  {
   "cell_type": "code",
   "execution_count": null,
   "metadata": {},
   "outputs": [
    {
     "data": {
      "text/plain": [
       "0                                                                                                           None\n",
       "1                                                                                    [tamale, the Clarion Hotel]\n",
       "2                                                                                                           None\n",
       "3                                                                                                           None\n",
       "4                                                                                                           None\n",
       "5                                                                                                           None\n",
       "6                                                                                                           None\n",
       "7                                                                                                           None\n",
       "8                                                                [Upland, Bloomington, Indiana, Indiana, Upland]\n",
       "9                                                                                                           None\n",
       "10                                                                                                        [LOVE]\n",
       "11                                                                                                          None\n",
       "12                                                                                                          None\n",
       "13                                                                                                          None\n",
       "14                                                                                                          None\n",
       "15                                                                                                          None\n",
       "16                                                                                                          None\n",
       "17                                                                    [the Caesars Palace, Las Vegas, Las Vegas]\n",
       "18                                                                                                          None\n",
       "19                                                                                                   [Groupon &]\n",
       "20                                                                                                          None\n",
       "21                                                                                                     [Whiskey]\n",
       "22                                                                                                          None\n",
       "23                                                                                       [the Seafood Jumbalaya]\n",
       "24                                                                              [New Orleans Hamburger, Seafood]\n",
       "25                                                                                                       [Pepsi]\n",
       "26                                                                                 [Keith, Kentucky Fried Quail]\n",
       "27                                                                                                          None\n",
       "28                                                                                                          None\n",
       "29                                                                               [Nachos, Variety, fish & chips]\n",
       "30                                                                                        [Super Smash Brothers]\n",
       "31                                                                                                          None\n",
       "32                                                                                                          None\n",
       "33                                                                                                          None\n",
       "34    [the Shellfish Company, Wharf, Cannery Row, Monterey, Yelp, California Rock Crab, the Shrimp Bisque, SBSC]\n",
       "35                                                                                                          None\n",
       "36                                                                                                          None\n",
       "37                                                                                                [Granite City]\n",
       "38                                                                                                          None\n",
       "39                                                                                                          None\n",
       "40                                                                                       [St. Louis, Hefeweizen]\n",
       "41                                                                                                          None\n",
       "42                                                                                                          None\n",
       "43                                                                                                      [Panang]\n",
       "44                                                                                                          None\n",
       "45                                                                                                          None\n",
       "46                                                                                                          None\n",
       "47                                                                                            [Superior Seafood]\n",
       "48                                                                                                          None\n",
       "49                                                                                                          None\n",
       "Name: keywords_cleaned, dtype: object"
      ]
     },
     "execution_count": 89,
     "metadata": {},
     "output_type": "execute_result"
    }
   ],
   "source": [
    "df2['keywords_cleaned'].head(50)"
   ]
  },
  {
   "cell_type": "code",
   "execution_count": null,
   "metadata": {},
   "outputs": [
    {
     "name": "stderr",
     "output_type": "stream",
     "text": [
      "[nltk_data] Downloading package stopwords to\n",
      "[nltk_data]     C:\\Users\\rubio\\AppData\\Roaming\\nltk_data...\n",
      "[nltk_data]   Package stopwords is already up-to-date!\n",
      "[nltk_data] Downloading package punkt to\n",
      "[nltk_data]     C:\\Users\\rubio\\AppData\\Roaming\\nltk_data...\n",
      "[nltk_data]   Package punkt is already up-to-date!\n"
     ]
    }
   ],
   "source": [
    "import nltk\n",
    "from nltk.corpus import stopwords\n",
    "from nltk.tokenize import word_tokenize\n",
    "\n",
    "# Lista de stopwords en inglés\n",
    "stop_words = set(stopwords.words('english'))\n",
    "\n",
    "# Descargar las stopwords\n",
    "nltk.download('stopwords')\n",
    "nltk.download('punkt')\n",
    "\n",
    "def spliter(text):\n",
    "    words = []\n",
    "    for phrase in text:\n",
    "        words.extend(word_tokenize(phrase.lower()))  # Tokeniza y convierte a minúsculas\n",
    "\n",
    "    keywords = [word for word in words if word not in stop_words and len(word) > 1]  # Paso 2: Filtrar palabras irrelevantes (stopwords y caracteres individuales)\n",
    "\n",
    "    return keywords if keywords else None\n",
    "\n",
    "df2['keywords_cleaned'] = df2['keyword_spacy'].apply(spliter)\n"
   ]
  },
  {
   "cell_type": "code",
   "execution_count": null,
   "metadata": {},
   "outputs": [
    {
     "data": {
      "text/plain": [
       "0                                                                                                                                                                                                                                                                                                                                                                                                                                                                                                                                                                                                                           [nj, waitstaff, bad, experience, many, experiences, food, another, diner, restaurant, order, weekends, long, time, locations, hours]\n",
       "1                                                                                                                                                                                                                                                                                                                                                                                                                                                                                   [eclectic, assortment, fresh, melon, fried, jalapeño, lots, tamale, friendly, attentive, staff, good, place, buffet, casual, relaxed, meal, mexican, choices, large, chicken, leg, menu, two, rolled, grape, leaves, expectations, breakfast, family, diner, clarion, hotel]\n",
       "2                                                                                                                                                                                                                                                                                                                                                                                                                                                                                                                                                        [night, fun, lively, experience, mistakes, order, service, separate, sushi, orders, one, plate, food, restaraunt, three, words, several, items, name, cook, money, hibachi, francisco, party, waitress]\n",
       "3                                                                                                                                                                                                                                                                                                                                                                                                                                                                                                                                                                                                                                  [pasta, stl, heat, love, veal, milanese, menu, taste, location, hour, great, patio, fans, mixed, greens, dinner, happy, hour]\n",
       "4                                                                                                                                                                                                                                                                                                                                                                                                                                                                                                                                                                                                                                                                                     [baked, eggplant, appetizer, food, good, food, gnocchi, marinara, service]\n",
       "                                                                                                                                                                                                                                                                                                                                                                                   ...                                                                                                                                                                                                                                                                                                                                                                          \n",
       "185440                                                                                                                                                                                                                                                                                                             [building, ``, watering, pico, de, gallo, zero, consistency, el, sitio, town, order, burrito, phone, problems, first, things, beans, rice, food, texture, salsa, bar, beef, location, multiple, calls, water, locations, delicious, taste, stars, burrito, one, customer, answer, long, day, salsa, salsa, condiments, bar, lemons, lime, problem, today, zero, green, chiles, bin, surprise, past, times, today, 's, visit, service, person]\n",
       "185441                                                                                                                                                                                                                                                                                                                                                                                                                                                                                                                                                                                [fast-food, restaurant, planet, wife, pleasurable, experience, memorial, weekend, culvers, restaurant, best, chain, burger, friday, evening, cole, slaw, gluten-free, bun]\n",
       "185442                                                                                                                                                                                                                                                                                                                                                                                                                                                                            [omnivore, hard, time, tofu, large, portion, half, shepherd, 's, bowl, bar, area, store, three, carrots, age, vegan, diner, boyfriend, meal, leftover, city, market, store, meal, outside, seating, brick, mortor, location, back, free, street, parking, small, parking, lot]\n",
       "185443                                                                                                                                                                                                                                                                                                                                                                                                                                                                                                                                                                                 [love, ice, cream, name, container, places, st., louis, chocolate, candy, two, people, candy, taste, chocolate, milkshake, old, school, dinner/candy, shop, crown, candy]\n",
       "185444    [manager, next, morning, dogs, initial, conversation, dan, man, rooms, mind, place, room, 10pm, door, professional, friendly, follow, anyone, dog, smirk, revered, institutions, night, customer, service, 1-2, fiancée, first, ever, yelp, review, even, 10pm, lights, dinner, guests, different, gentleman, service, manager, stay, people, name, clean, great, location, tonight, front, desk, shane, dogs, neighbors, night, overall, unfortunate, situation, first, interaction, us, tonight, whatever, 98, corner-, dogs, front, desk, whole, different, story, pics, problem, call, introduction, dogs, situation, christian, san, francisco, room, upper, management, positions, timers, manager, experience, office, room, security, cameras]\n",
       "Name: keywords_cleaned, Length: 185445, dtype: object"
      ]
     },
     "execution_count": 91,
     "metadata": {},
     "output_type": "execute_result"
    }
   ],
   "source": [
    "df2['keywords_cleaned']"
   ]
  },
  {
   "cell_type": "code",
   "execution_count": null,
   "metadata": {},
   "outputs": [
    {
     "data": {
      "text/plain": [
       "5"
      ]
     },
     "execution_count": 92,
     "metadata": {},
     "output_type": "execute_result"
    }
   ],
   "source": [
    "df2['keywords_cleaned'].isna().sum()"
   ]
  },
  {
   "cell_type": "code",
   "execution_count": null,
   "metadata": {},
   "outputs": [
    {
     "name": "stdout",
     "output_type": "stream",
     "text": [
      "[('food', 172624), ('place', 91512), ('service', 70897), ('great', 60743), ('good', 48183), ('restaurant', 47635), ('time', 37666), ('chicken', 34075), ('menu', 33278), ('pizza', 31719), ('staff', 29238), ('one', 28110), ('lunch', 28079), ('us', 27768), ('meal', 27211), (\"'s\", 27094), ('night', 26481), ('dinner', 25346), ('bar', 24038), ('cheese', 23247), ('people', 23244), ('best', 23148), ('sauce', 22678), ('table', 22484), ('experience', 22204), ('minutes', 20081), ('nice', 19689), ('area', 19503), ('order', 18314), ('everything', 18265), ('new', 18209), ('salad', 18031), ('first', 16986), ('two', 16969), ('atmosphere', 16445), ('drinks', 16389), ('``', 16018), ('beer', 15834), ('sushi', 15696), ('server', 15533), ('side', 15512), ('little', 15471), ('fries', 14951), ('favorite', 14862), ('burger', 14705), ('another', 14299), ('something', 14186), ('shrimp', 14146), ('sandwich', 13562), ('way', 13456)]\n"
     ]
    }
   ],
   "source": [
    "from collections import Counter\n",
    "\n",
    "common_words = []\n",
    "\n",
    "for words in df2['keywords_cleaned']:\n",
    "    if words:\n",
    "        common_words.extend(words)\n",
    "\n",
    "count = Counter(common_words)\n",
    "\n",
    "commons = count.most_common(50)\n",
    "\n",
    "print(commons)"
   ]
  },
  {
   "cell_type": "code",
   "execution_count": null,
   "metadata": {},
   "outputs": [],
   "source": [
    "df_plot = pd.DataFrame(columns=['kword','count'], data=commons)"
   ]
  },
  {
   "cell_type": "code",
   "execution_count": null,
   "metadata": {},
   "outputs": [
    {
     "data": {
      "text/plain": [
       "<Axes: >"
      ]
     },
     "execution_count": 101,
     "metadata": {},
     "output_type": "execute_result"
    },
    {
     "data": {
      "image/png": "[encoded data removed]",
      "text/plain": [
       "<Figure size 640x480 with 1 Axes>"
      ]
     },
     "metadata": {},
     "output_type": "display_data"
    }
   ],
   "source": [
    "df_plot.plot()"
   ]
  },
  {
   "cell_type": "code",
   "execution_count": null,
   "metadata": {},
   "outputs": [
    {
     "name": "stdout",
     "output_type": "stream",
     "text": [
      "                                                                                                                                                                                                                                                               keywords_cleaned  \\\n",
      "0                                                                                                                                          [nj, waitstaff, bad, experience, many, experiences, food, another, diner, restaurant, order, weekends, long, time, locations, hours]   \n",
      "1  [eclectic, assortment, fresh, melon, fried, jalapeño, lots, tamale, friendly, attentive, staff, good, place, buffet, casual, relaxed, meal, mexican, choices, large, chicken, leg, menu, two, rolled, grape, leaves, expectations, breakfast, family, diner, clarion, hotel]   \n",
      "2                                                                       [night, fun, lively, experience, mistakes, order, service, separate, sushi, orders, one, plate, food, restaraunt, three, words, several, items, name, cook, money, hibachi, francisco, party, waitress]   \n",
      "3                                                                                                                                                 [pasta, stl, heat, love, veal, milanese, menu, taste, location, hour, great, patio, fans, mixed, greens, dinner, happy, hour]   \n",
      "4                                                                                                                                                                                                    [baked, eggplant, appetizer, food, good, food, gnocchi, marinara, service]   \n",
      "\n",
      "                                            adjectives  \\\n",
      "0                                          [bad, many]   \n",
      "1  [eclectic, fresh, friendly, attentive, good, large]   \n",
      "2                          [lively, separate, several]   \n",
      "3                                 [veal, great, happy]   \n",
      "4                                               [good]   \n",
      "\n",
      "                                                                                                                                              objects  \n",
      "0                                                                            [experiences, food, restaurant, order, weekends, time, locations, hours]  \n",
      "1  [assortment, melon, lots, tamale, staff, place, casual, meal, choices, chicken, leg, menu, grape, expectations, breakfast, family, clarion, hotel]  \n",
      "2                            [night, fun, mistakes, order, service, orders, plate, food, words, items, name, cook, money, francisco, party, waitress]  \n",
      "3                                                                     [heat, love, milanese, menu, location, hour, patio, fans, greens, dinner, hour]  \n",
      "4                                                                                                          [eggplant, appetizer, food, food, service]  \n"
     ]
    }
   ],
   "source": [
    "# Cargar el modelo de spaCy para inglés por unica vez\n",
    "#nlp = spacy.load(\"en_core_web_sm\")\n",
    "\n",
    "# Crear dos nuevas columnas para los adjetivos y los objetos\n",
    "df2['adjectives'] = None\n",
    "df2['objects'] = None\n",
    "\n",
    "# Función para clasificar palabras en adjetivos y objetos\n",
    "def categorize_words(word_list):\n",
    "    adjectives = []\n",
    "    objects = []\n",
    "    for word in word_list:\n",
    "        doc = nlp(word)\n",
    "        for token in doc:\n",
    "            if token.pos_ == 'ADJ':    # Identifica adjetivos\n",
    "                adjectives.append(token.text)\n",
    "            elif token.pos_ == 'NOUN':  # Identifica nombres (objetos)\n",
    "                objects.append(token.text)\n",
    "    return adjectives, objects\n",
    "\n",
    "# Aplicar la función a cada fila del DataFrame\n",
    "df2[['adjectives', 'objects']] = df2['keywords_cleaned'].apply(\n",
    "    lambda x: pd.Series(categorize_words(x) if x is not None else ([], []))\n",
    ")"
   ]
  },
  {
   "cell_type": "code",
   "execution_count": null,
   "metadata": {},
   "outputs": [
    {
     "data": {
      "text/html": [
       "<div>\n",
       "<style scoped>\n",
       "    .dataframe tbody tr th:only-of-type {\n",
       "        vertical-align: middle;\n",
       "    }\n",
       "\n",
       "    .dataframe tbody tr th {\n",
       "        vertical-align: top;\n",
       "    }\n",
       "\n",
       "    .dataframe thead th {\n",
       "        text-align: right;\n",
       "    }\n",
       "</style>\n",
       "<table border=\"1\" class=\"dataframe\">\n",
       "  <thead>\n",
       "    <tr style=\"text-align: right;\">\n",
       "      <th></th>\n",
       "      <th>adjectives</th>\n",
       "      <th>objects</th>\n",
       "    </tr>\n",
       "  </thead>\n",
       "  <tbody>\n",
       "    <tr>\n",
       "      <th>0</th>\n",
       "      <td>[bad, many]</td>\n",
       "      <td>[experiences, food, restaurant, order, weekends, time, locations, hours]</td>\n",
       "    </tr>\n",
       "    <tr>\n",
       "      <th>1</th>\n",
       "      <td>[eclectic, fresh, friendly, attentive, good, large]</td>\n",
       "      <td>[assortment, melon, lots, tamale, staff, place, casual, meal, choices, chicken, leg, menu, grape, expectations, breakfast, family, clarion, hotel]</td>\n",
       "    </tr>\n",
       "    <tr>\n",
       "      <th>2</th>\n",
       "      <td>[lively, separate, several]</td>\n",
       "      <td>[night, fun, mistakes, order, service, orders, plate, food, words, items, name, cook, money, francisco, party, waitress]</td>\n",
       "    </tr>\n",
       "    <tr>\n",
       "      <th>3</th>\n",
       "      <td>[veal, great, happy]</td>\n",
       "      <td>[heat, love, milanese, menu, location, hour, patio, fans, greens, dinner, hour]</td>\n",
       "    </tr>\n",
       "    <tr>\n",
       "      <th>4</th>\n",
       "      <td>[good]</td>\n",
       "      <td>[eggplant, appetizer, food, food, service]</td>\n",
       "    </tr>\n",
       "    <tr>\n",
       "      <th>...</th>\n",
       "      <td>...</td>\n",
       "      <td>...</td>\n",
       "    </tr>\n",
       "    <tr>\n",
       "      <th>185440</th>\n",
       "      <td>[multiple, delicious, green]</td>\n",
       "      <td>[pico, consistency, sitio, town, order, phone, problems, things, beans, rice, food, texture, bar, beef, location, calls, water, locations, stars, customer, answer, day, condiments, bar, lemons, lime, problem, today, bin, surprise, past, times, today, service, person]</td>\n",
       "    </tr>\n",
       "    <tr>\n",
       "      <th>185441</th>\n",
       "      <td>[fast, pleasurable, best, free]</td>\n",
       "      <td>[food, restaurant, planet, wife, weekend, culvers, restaurant, chain, burger, evening, slaw]</td>\n",
       "    </tr>\n",
       "    <tr>\n",
       "      <th>185442</th>\n",
       "      <td>[large, free, small]</td>\n",
       "      <td>[time, portion, half, shepherd, bowl, bar, area, carrots, age, boyfriend, meal, leftover, city, market, meal, brick, location, parking, parking, lot]</td>\n",
       "    </tr>\n",
       "    <tr>\n",
       "      <th>185443</th>\n",
       "      <td>[old]</td>\n",
       "      <td>[love, ice, cream, name, container, places, louis, chocolate, candy, people, candy, chocolate, school, dinner, candy, shop, crown, candy]</td>\n",
       "    </tr>\n",
       "    <tr>\n",
       "      <th>185444</th>\n",
       "      <td>[initial, professional, friendly, different, great, overall, unfortunate, whole, different, upper]</td>\n",
       "      <td>[manager, morning, dogs, conversation, man, rooms, mind, place, room, pm, door, dog, institutions, night, customer, service, fiancée, review, pm, lights, dinner, guests, gentleman, service, manager, people, name, location, tonight, front, desk, dogs, neighbors, night, situation, interaction, tonight, corner-, dogs, front, desk, story, pics, problem, introduction, dogs, situation, francisco, room, management, positions, timers, manager, office, room, security, cameras]</td>\n",
       "    </tr>\n",
       "  </tbody>\n",
       "</table>\n",
       "<p>185445 rows × 2 columns</p>\n",
       "</div>"
      ],
      "text/plain": [
       "                                                                                                adjectives  \\\n",
       "0                                                                                              [bad, many]   \n",
       "1                                                      [eclectic, fresh, friendly, attentive, good, large]   \n",
       "2                                                                              [lively, separate, several]   \n",
       "3                                                                                     [veal, great, happy]   \n",
       "4                                                                                                   [good]   \n",
       "...                                                                                                    ...   \n",
       "185440                                                                        [multiple, delicious, green]   \n",
       "185441                                                                     [fast, pleasurable, best, free]   \n",
       "185442                                                                                [large, free, small]   \n",
       "185443                                                                                               [old]   \n",
       "185444  [initial, professional, friendly, different, great, overall, unfortunate, whole, different, upper]   \n",
       "\n",
       "                                                                                                                                                                                                                                                                                                                                                                                                                                                                                         objects  \n",
       "0                                                                                                                                                                                                                                                                                                                                                                                                                       [experiences, food, restaurant, order, weekends, time, locations, hours]  \n",
       "1                                                                                                                                                                                                                                                                                                                                             [assortment, melon, lots, tamale, staff, place, casual, meal, choices, chicken, leg, menu, grape, expectations, breakfast, family, clarion, hotel]  \n",
       "2                                                                                                                                                                                                                                                                                                                                                                       [night, fun, mistakes, order, service, orders, plate, food, words, items, name, cook, money, francisco, party, waitress]  \n",
       "3                                                                                                                                                                                                                                                                                                                                                                                                                [heat, love, milanese, menu, location, hour, patio, fans, greens, dinner, hour]  \n",
       "4                                                                                                                                                                                                                                                                                                                                                                                                                                                     [eggplant, appetizer, food, food, service]  \n",
       "...                                                                                                                                                                                                                                                                                                                                                                                                                                                                                          ...  \n",
       "185440                                                                                                                                                                                                               [pico, consistency, sitio, town, order, phone, problems, things, beans, rice, food, texture, bar, beef, location, calls, water, locations, stars, customer, answer, day, condiments, bar, lemons, lime, problem, today, bin, surprise, past, times, today, service, person]  \n",
       "185441                                                                                                                                                                                                                                                                                                                                                                                              [food, restaurant, planet, wife, weekend, culvers, restaurant, chain, burger, evening, slaw]  \n",
       "185442                                                                                                                                                                                                                                                                                                                                     [time, portion, half, shepherd, bowl, bar, area, carrots, age, boyfriend, meal, leftover, city, market, meal, brick, location, parking, parking, lot]  \n",
       "185443                                                                                                                                                                                                                                                                                                                                                 [love, ice, cream, name, container, places, louis, chocolate, candy, people, candy, chocolate, school, dinner, candy, shop, crown, candy]  \n",
       "185444  [manager, morning, dogs, conversation, man, rooms, mind, place, room, pm, door, dog, institutions, night, customer, service, fiancée, review, pm, lights, dinner, guests, gentleman, service, manager, people, name, location, tonight, front, desk, dogs, neighbors, night, situation, interaction, tonight, corner-, dogs, front, desk, story, pics, problem, introduction, dogs, situation, francisco, room, management, positions, timers, manager, office, room, security, cameras]  \n",
       "\n",
       "[185445 rows x 2 columns]"
      ]
     },
     "execution_count": 97,
     "metadata": {},
     "output_type": "execute_result"
    }
   ],
   "source": [
    "df2[['adjectives','objects']]"
   ]
  }
 ],
 "metadata": {
  "kernelspec": {
   "display_name": "Python 3",
   "language": "python",
   "name": "python3"
  },
  "language_info": {
   "codemirror_mode": {
    "name": "ipython",
    "version": 3
   },
   "file_extension": ".py",
   "mimetype": "text/x-python",
   "name": "python",
   "nbconvert_exporter": "python",
   "pygments_lexer": "ipython3",
   "version": "3.11.5"
  }
 },
 "nbformat": 4,
 "nbformat_minor": 2
}
